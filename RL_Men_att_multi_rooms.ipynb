{
 "cells": [
  {
   "cell_type": "markdown",
   "metadata": {
    "id": "ad6V490MxnYC"
   },
   "source": [
    "## Tensorflow 2.x Setup\n"
   ]
  },
  {
   "cell_type": "code",
   "execution_count": 1,
   "metadata": {
    "colab": {
     "base_uri": "https://localhost:8080/"
    },
    "id": "pcauSkcpxnYE",
    "outputId": "945748de-3430-4a99-f2e6-57e661ec4495"
   },
   "outputs": [
    {
     "name": "stdout",
     "output_type": "stream",
     "text": [
      "2.5.0\n",
      "1.9.0\n"
     ]
    }
   ],
   "source": [
    "import random\n",
    "import numpy as np\n",
    "import math\n",
    "import matplotlib.pyplot as plt\n",
    "\n",
    "# tensorflow\n",
    "import tensorflow as tf\n",
    "print(tf.__version__)\n",
    "\n",
    "# pytorch\n",
    "import torch\n",
    "print(torch.__version__)\n",
    "\n",
    "# scikit-learn\n",
    "import sklearn\n",
    "from sklearn import cluster, decomposition, manifold\n",
    "import pandas as pd\n",
    "\n",
    "import scipy\n",
    "from scipy.stats import entropy\n",
    "from scipy.stats import dirichlet\n",
    "\n",
    "cwd = 'rl-starter-files/storage/'"
   ]
  },
  {
   "cell_type": "markdown",
   "metadata": {
    "id": "EL_sc3uaOnLL"
   },
   "source": [
    "### Get action probabilities"
   ]
  },
  {
   "cell_type": "code",
   "execution_count": null,
   "metadata": {
    "id": "t-gM0q2pNKkH"
   },
   "outputs": [],
   "source": [
    "# shadow (seed 0~4)\n",
    "# IN: label_0 ... label_4\n",
    "# OUT: label_5 ... label_9\n",
    "\n",
    "# attack\n",
    "# concat(shadow_seed_0, label_0) = IN\n",
    "# concat(shadow_seed_5, label_5) = OUT\n",
    "\n",
    "# attack on concat(shadow_seed_1, label_1)\n",
    "\n",
    "# victim, whether seed 3 is used in training\n",
    "# attack on concat(victim_seed_3, label_3) ==> IN/OUT"
   ]
  },
  {
   "cell_type": "code",
   "execution_count": 3,
   "metadata": {
    "id": "-oNNIhQMnz0c"
   },
   "outputs": [],
   "source": [
    "'''\n",
    "You can change the file directories to your models\n",
    "'''\n",
    "df = pd.read_csv(cwd+'mr_shadow_1/probabilities.csv')\n",
    "df0 = pd.read_csv(cwd+'mr_shadow_5/probabilities.csv')\n",
    "df1 = pd.read_csv(cwd+'mr_label_1/probabilities.csv')\n",
    "df2 = pd.read_csv(cwd+'mr_label_5/probabilities.csv')"
   ]
  },
  {
   "cell_type": "code",
   "execution_count": null,
   "metadata": {
    "colab": {
     "base_uri": "https://localhost:8080/"
    },
    "id": "YIGA5uDupMQg",
    "outputId": "f4c9c6c6-5ff6-472f-f104-e303115451fc"
   },
   "outputs": [
    {
     "data": {
      "text/plain": [
       "(3200, 7, 64)"
      ]
     },
     "execution_count": 5,
     "metadata": {
      "tags": []
     },
     "output_type": "execute_result"
    }
   ],
   "source": [
    "def reshape_data(dataframe):\n",
    "    # reshape the data into the shape that fit the attack model\n",
    "    data = dataframe.to_numpy()\n",
    "    data = data.reshape((len(data)//64, 64, 7))\n",
    "    data = data.swapaxes(1,2)\n",
    "    return data\n",
    "\n",
    "data0 = reshape_data(df)\n",
    "data00 = reshape_data(df0)\n",
    "data1 = reshape_data(df1)\n",
    "data2 = reshape_data(df2)\n",
    "data0.shape"
   ]
  },
  {
   "cell_type": "code",
   "execution_count": null,
   "metadata": {
    "colab": {
     "base_uri": "https://localhost:8080/"
    },
    "id": "sCz8z80Oo-SM",
    "outputId": "d4185888-cb2b-4a83-94f4-6a04d0307339"
   },
   "outputs": [
    {
     "data": {
      "text/plain": [
       "((3200, 14, 64), (3200, 14, 64))"
      ]
     },
     "execution_count": 6,
     "metadata": {
      "tags": []
     },
     "output_type": "execute_result"
    }
   ],
   "source": [
    "# Put IN and OUT data together\n",
    "# You can concatenate more data if you have\n",
    "in_data = np.concatenate([np.concatenate([data0[:1600], data1[:1600]], axis=1),\n",
    "                          np.concatenate([data00[:1600], data2[:1600]], axis=1)\n",
    "                          # add more data if there are\n",
    "                         ])\n",
    "\n",
    "out_data = np.concatenate([np.concatenate([data0[:1600], data2[:1600]], axis=1),\n",
    "                           np.concatenate([data00[:1600], data1[:1600]], axis=1)\n",
    "                           # add more data if there are\n",
    "                          ])\n",
    "in_data.shape, out_data.shape"
   ]
  },
  {
   "cell_type": "code",
   "execution_count": null,
   "metadata": {
    "id": "7dO4kbeNptK2"
   },
   "outputs": [],
   "source": [
    "def get_att_data(in_data, out_data):\n",
    "    # Generate IN/OUT labels for the data\n",
    "    in_label = [1.0]*len(in_data)\n",
    "    out_label = [0.0]*len(out_data)\n",
    "    labels = in_label + out_label\n",
    "    in_data = [d for d in in_data]\n",
    "    out_data = [d for d in out_data]\n",
    "    data = in_data + out_data\n",
    "\n",
    "    c = list(zip(data, labels))\n",
    "    random.shuffle(c)\n",
    "    data, labels = zip(*c)\n",
    "    return np.array(data), np.array(labels)\n",
    "\n",
    "def get_label_vector(labels):\n",
    "    # Convert labels into vector form (one-hot embedding)\n",
    "    label_vectors = np.zeros((len(labels), np.max(labels)+1))\n",
    "    for i in range(len(labels)):\n",
    "        label_vectors[i, labels[i]] = 1\n",
    "    return label_vectors"
   ]
  },
  {
   "cell_type": "code",
   "execution_count": null,
   "metadata": {
    "colab": {
     "base_uri": "https://localhost:8080/"
    },
    "id": "6en96QQeH1EV",
    "outputId": "1a7703a9-51f6-443c-edf9-353c65875e81"
   },
   "outputs": [
    {
     "data": {
      "text/plain": [
       "((4400, 14, 64), (4400, 2))"
      ]
     },
     "execution_count": 8,
     "metadata": {
      "tags": []
     },
     "output_type": "execute_result"
    }
   ],
   "source": [
    "data, labels = get_att_data(in_data, out_data)\n",
    "label_vec = get_label_vector(np.array(labels, dtype=np.int))\n",
    "\n",
    "test_size = 2000\n",
    "data, test_data = data[:-test_size], data[-test_size:]\n",
    "label_vec, test_label = label_vec[:-test_size], label_vec[-test_size:]\n",
    "\n",
    "data.shape, label_vec.shape"
   ]
  },
  {
   "cell_type": "markdown",
   "metadata": {
    "id": "-_IYphsf9nUm"
   },
   "source": [
    "### Attack Model"
   ]
  },
  {
   "cell_type": "code",
   "execution_count": null,
   "metadata": {
    "id": "mSDk4ZNSqON1"
   },
   "outputs": [],
   "source": [
    "import keras\n",
    "from keras.models import Sequential\n",
    "from keras.layers import Dense, Dropout, Flatten, Softmax\n",
    "def build_att():\n",
    "    model = Sequential()\n",
    "    model.add(Dense(128, activation='relu'))\n",
    "    model.add(Dense(64, activation='relu'))\n",
    "    model.add(Flatten())\n",
    "    model.add(Dense(32, activation='relu'))\n",
    "    model.add(Dense(16, activation='relu'))\n",
    "    model.add(Dense(2))\n",
    "    model.add(Softmax())\n",
    "    opt = keras.optimizers.Adam(learning_rate=0.001)\n",
    "    precision = keras.metrics.Precision(class_id=0)\n",
    "    recall = keras.metrics.Recall(class_id=0)\n",
    "    model.compile(loss='categorical_crossentropy', optimizer=opt, metrics=['accuracy', precision, recall])\n",
    "    return model"
   ]
  },
  {
   "cell_type": "code",
   "execution_count": null,
   "metadata": {
    "colab": {
     "base_uri": "https://localhost:8080/"
    },
    "id": "gSUapK_bqmot",
    "outputId": "cb8b4624-085b-479d-b779-f1df14759385"
   },
   "outputs": [
    {
     "name": "stdout",
     "output_type": "stream",
     "text": [
      "Epoch 1/15\n",
      "69/69 [==============================] - 2s 4ms/step - loss: 0.7195 - accuracy: 0.4866 - precision_4: 0.4710 - recall_4: 0.4023\n",
      "Epoch 2/15\n",
      "69/69 [==============================] - 0s 4ms/step - loss: 0.6925 - accuracy: 0.5188 - precision_4: 0.5187 - recall_4: 0.3735\n",
      "Epoch 3/15\n",
      "69/69 [==============================] - 0s 4ms/step - loss: 0.6934 - accuracy: 0.5059 - precision_4: 0.4554 - recall_4: 0.1864\n",
      "Epoch 4/15\n",
      "69/69 [==============================] - 0s 5ms/step - loss: 0.6921 - accuracy: 0.5170 - precision_4: 0.5293 - recall_4: 0.2164\n",
      "Epoch 5/15\n",
      "69/69 [==============================] - 0s 4ms/step - loss: 0.6883 - accuracy: 0.5410 - precision_4: 0.5483 - recall_4: 0.3729\n",
      "Epoch 6/15\n",
      "69/69 [==============================] - 0s 4ms/step - loss: 0.6760 - accuracy: 0.5919 - precision_4: 0.6449 - recall_4: 0.3852\n",
      "Epoch 7/15\n",
      "69/69 [==============================] - 0s 5ms/step - loss: 0.6597 - accuracy: 0.5732 - precision_4: 0.6009 - recall_4: 0.4182\n",
      "Epoch 8/15\n",
      "69/69 [==============================] - 0s 4ms/step - loss: 0.6008 - accuracy: 0.6612 - precision_4: 0.7308 - recall_4: 0.5023\n",
      "Epoch 9/15\n",
      "69/69 [==============================] - 0s 4ms/step - loss: 0.5063 - accuracy: 0.7291 - precision_4: 0.7701 - recall_4: 0.6551\n",
      "Epoch 10/15\n",
      "69/69 [==============================] - 0s 5ms/step - loss: 0.4402 - accuracy: 0.7773 - precision_4: 0.7791 - recall_4: 0.7700\n",
      "Epoch 11/15\n",
      "69/69 [==============================] - 0s 4ms/step - loss: 0.3976 - accuracy: 0.8052 - precision_4: 0.7910 - recall_4: 0.8276\n",
      "Epoch 12/15\n",
      "69/69 [==============================] - 0s 4ms/step - loss: 0.3144 - accuracy: 0.8617 - precision_4: 0.8624 - recall_4: 0.8586\n",
      "Epoch 13/15\n",
      "69/69 [==============================] - 0s 5ms/step - loss: 0.2778 - accuracy: 0.8787 - precision_4: 0.8903 - recall_4: 0.8624\n",
      "Epoch 14/15\n",
      "69/69 [==============================] - 0s 5ms/step - loss: 0.2099 - accuracy: 0.9132 - precision_4: 0.9108 - recall_4: 0.9138\n",
      "Epoch 15/15\n",
      "69/69 [==============================] - 0s 4ms/step - loss: 0.1723 - accuracy: 0.9381 - precision_4: 0.9372 - recall_4: 0.9388\n",
      "32/32 [==============================] - 1s 4ms/step - loss: 0.1878 - accuracy: 0.9195 - precision_4: 0.8760 - recall_4: 0.9825\n"
     ]
    },
    {
     "data": {
      "text/plain": [
       "[0.18781711161136627,\n",
       " 0.9194999933242798,\n",
       " 0.8759757280349731,\n",
       " 0.9824903011322021]"
      ]
     },
     "execution_count": 16,
     "metadata": {
      "tags": []
     },
     "output_type": "execute_result"
    }
   ],
   "source": [
    "attack_model = build_att()\n",
    "attack_model.fit(x=data, y=label_vec, batch_size=64, epochs=15, verbose=True)\n",
    "attack_model.evaluate(x=test_data, y=test_label, batch_size=64)"
   ]
  },
  {
   "cell_type": "markdown",
   "metadata": {
    "id": "jpEqsL2wB0i-"
   },
   "source": [
    "### Privacy Preserving"
   ]
  },
  {
   "cell_type": "code",
   "execution_count": null,
   "metadata": {
    "id": "YIbjQuI-_Zsr"
   },
   "outputs": [],
   "source": [
    "def attack_accuracy(model, victim, in_label, out_label):\n",
    "    # Evaluate the attacking on the victim\n",
    "    # in_label, out_label are the probalities collected from in/out model\n",
    "    test = np.concatenate([victim, in_label], axis=1)\n",
    "    pred1 = np.argmax(model.predict(test), axis=1)\n",
    "    acc = sklearn.metrics.accuracy_score(np.ones((len(in_label,))), pred1)\n",
    "\n",
    "    test = np.concatenate([victim, out_label], axis=1)\n",
    "    pred2 = np.argmax(model.predict(test), axis=1)\n",
    "    print('Number of predicted IN data: ', np.sum(pred1+pred2))\n",
    "    acc += sklearn.metrics.accuracy_score(np.zeros((len(out_label,))), pred2)\n",
    "    print('Accuracy: ', acc/2, '\\n')\n",
    "    return acc/2"
   ]
  },
  {
   "cell_type": "code",
   "execution_count": null,
   "metadata": {
    "colab": {
     "base_uri": "https://localhost:8080/"
    },
    "id": "6axyirgX-4C9",
    "outputId": "c983f94c-0f37-42d2-e707-b0bd3b7c7e8a"
   },
   "outputs": [
    {
     "name": "stdout",
     "output_type": "stream",
     "text": [
      "Attack Model without Protection:\n",
      "Number of predicted IN data:  2728\n",
      "Accuracy:  0.92625 \n",
      "\n"
     ]
    },
    {
     "data": {
      "text/plain": [
       "0.92625"
      ]
     },
     "execution_count": 17,
     "metadata": {
      "tags": []
     },
     "output_type": "execute_result"
    }
   ],
   "source": [
    "'''\n",
    "You can change the file directories to your models\n",
    "'''\n",
    "victim_df = pd.read_csv(cwd+'data/mr_0/probabilities.csv')\n",
    "victim = reshape_data(victim_df)\n",
    "print('Attack Model without Protection:')\n",
    "attack_accuracy(attack_model, victim, reshape_data(pd.read_csv(cwd+'data/mr0/probabilities.csv')), data2)"
   ]
  },
  {
   "cell_type": "code",
   "execution_count": null,
   "metadata": {
    "colab": {
     "base_uri": "https://localhost:8080/"
    },
    "id": "C-hbykC6Hr6V",
    "outputId": "b84cb79d-a31f-4e18-95c6-e8c7989fb955"
   },
   "outputs": [
    {
     "name": "stdout",
     "output_type": "stream",
     "text": [
      "Attack Model with Dirichlet k=1:\n",
      "Number of predicted IN data:  0\n",
      "Accuracy:  0.5 \n",
      "\n",
      "Attack Model with Dirichlet k=10:\n",
      "Number of predicted IN data:  0\n",
      "Accuracy:  0.5 \n",
      "\n",
      "Attack Model with Dirichlet k=100:\n",
      "Number of predicted IN data:  654\n",
      "Accuracy:  0.6021875 \n",
      "\n"
     ]
    },
    {
     "data": {
      "text/plain": [
       "0.6021875"
      ]
     },
     "execution_count": 18,
     "metadata": {
      "tags": []
     },
     "output_type": "execute_result"
    }
   ],
   "source": [
    "'''\n",
    "You can change the file directories to your protected models\n",
    "'''\n",
    "prot_victim_df = pd.read_csv(cwd+'data/mr_k_1/probabilities.csv')\n",
    "prot_victim = reshape_data(prot_victim_df)\n",
    "print('Attack Model with Dirichlet k=1:')\n",
    "attack_accuracy(attack_model, prot_victim, data1,data2)\n",
    "\n",
    "prot_victim_df = pd.read_csv(cwd+'data/mr_k_10/probabilities.csv')\n",
    "prot_victim = reshape_data(prot_victim_df)\n",
    "print('Attack Model with Dirichlet k=10:')\n",
    "attack_accuracy(attack_model, prot_victim, data1, data2)\n",
    "\n",
    "prot_victim_df = pd.read_csv(cwd+'data/mr_k_100/probabilities.csv')\n",
    "prot_victim = reshape_data(prot_victim_df)\n",
    "print('Attack Model with Dirichlet k=100:')\n",
    "attack_accuracy(attack_model, prot_victim, data1, data2)"
   ]
  },
  {
   "cell_type": "markdown",
   "metadata": {
    "id": "CytY3dXWygNg"
   },
   "source": [
    "### Train Attack Model to fit Dirichlet"
   ]
  },
  {
   "cell_type": "code",
   "execution_count": null,
   "metadata": {
    "id": "ILL9YeOIOjy2"
   },
   "outputs": [],
   "source": [
    "def dirichlet_dist(traj, k=1, decay_rate=1, decay_step=10000):\n",
    "    # apply dirichlet distribution to the trajectories\n",
    "    for i in range(len(traj)):\n",
    "        alpha = np.exp(traj[i]) * k * (decay_rate ** (i//decay_step))\n",
    "        rv = dirichlet.rvs(alpha, size=1, random_state=None)[0]\n",
    "        while np.min(rv)==0:\n",
    "            rv = dirichlet.rvs(alpha, size=1, random_state=None)[0]\n",
    "        traj[i] = np.log(rv)\n",
    "    return traj\n",
    "\n",
    "def reshape_data_(data):\n",
    "    data = data.reshape((len(data)//64, 64, 7))\n",
    "    data = data.swapaxes(1,2)\n",
    "    return data\n",
    "\n",
    "def apply_dirichlet(dataframe, k, decay_rate, decay_step):\n",
    "    data = dataframe.to_numpy()\n",
    "    data = dirichlet_dist(data, k, decay_rate, decay_step)\n",
    "    return reshape_data_(data)\n",
    "\n",
    "def dirichlet_experiment(k=1, decay_rate=1, decay_step=10000):\n",
    "    # Experiments for exploring how constant k and its decay will affect\n",
    "    # the attacking accuracy\n",
    "    # You can change the file directories to run your own experiments\n",
    "    print('Experiment k = ', k)\n",
    "    df = pd.read_csv(cwd+'data/mr_1/probabilities.csv')\n",
    "    df0 = pd.read_csv(cwd+'data/mr_5/probabilities.csv')\n",
    "    df1 = pd.read_csv(cwd+'data/mr1/probabilities.csv')\n",
    "    df2 = pd.read_csv(cwd+'data/mr5/probabilities.csv')\n",
    "    data0 = apply_dirichlet(df, k, decay_rate, decay_step)\n",
    "    data00 = apply_dirichlet(df0, k, decay_rate, decay_step)\n",
    "    data1 = reshape_data(df1)\n",
    "    data2 = reshape_data(df2)\n",
    "\n",
    "    in_data = np.concatenate([np.concatenate([data0[:1600], data1[:1600]], axis=1),\n",
    "                          np.concatenate([data00[:1600], data2[:1600]], axis=1)])\n",
    "\n",
    "    out_data = np.concatenate([np.concatenate([data0[:1600], data2[:1600]], axis=1),\n",
    "                              np.concatenate([data00[:1600], data1[:1600]], axis=1)])\n",
    "    \n",
    "    data, labels = get_att_data(in_data, out_data)\n",
    "    label_vec = get_label_vector(np.array(labels, dtype=np.int))\n",
    "    attack_model = build_att()\n",
    "    attack_model.fit(x=data, y=label_vec, batch_size=64, epochs=10, verbose=True)\n",
    "\n",
    "    victim_df = pd.read_csv(cwd+'data/mr_1/probabilities.csv')\n",
    "    victim = reshape_data(victim_df)\n",
    "    print('Attack Model without Protection:')\n",
    "    attack_accuracy(attack_model, victim, data1,data2)\n",
    "\n",
    "    prot_victim_df = pd.read_csv(cwd+'data/mr_k_1/probabilities.csv')\n",
    "    prot_victim = reshape_data(prot_victim_df)\n",
    "    print('Attack Model with Dirichlet k=1:')\n",
    "    attack_accuracy(attack_model, prot_victim, data1, data2)\n",
    "\n",
    "    prot_victim_df = pd.read_csv(cwd+'data/mr_k_10/probabilities.csv')\n",
    "    prot_victim = reshape_data(prot_victim_df)\n",
    "    print('Attack Model with Dirichlet k=10:')\n",
    "    attack_accuracy(attack_model, prot_victim, data1, data2)\n",
    "\n",
    "    prot_victim_df = pd.read_csv(cwd+'data/mr_k_100/probabilities.csv')\n",
    "    prot_victim = reshape_data(prot_victim_df)\n",
    "    print('Attack Model with Dirichlet k=100:')\n",
    "    attack_accuracy(attack_model, prot_victim, data1, data2)\n",
    "    print()"
   ]
  },
  {
   "cell_type": "code",
   "execution_count": null,
   "metadata": {
    "colab": {
     "base_uri": "https://localhost:8080/"
    },
    "id": "kOs2c3_ItWCd",
    "outputId": "a1dc6fd4-ac6d-457b-8ce4-cef87bfe6689"
   },
   "outputs": [
    {
     "name": "stdout",
     "output_type": "stream",
     "text": [
      "Experiment k =  1\n",
      "Epoch 1/10\n",
      "100/100 [==============================] - 2s 5ms/step - loss: 2.1176 - accuracy: 0.4910 - precision_8: 0.5001 - recall_8: 0.4961\n",
      "Epoch 2/10\n",
      "100/100 [==============================] - 1s 5ms/step - loss: 0.7243 - accuracy: 0.4952 - precision_8: 0.4900 - recall_8: 0.5199\n",
      "Epoch 3/10\n",
      "100/100 [==============================] - 1s 5ms/step - loss: 0.7056 - accuracy: 0.5091 - precision_8: 0.5112 - recall_8: 0.5549\n",
      "Epoch 4/10\n",
      "100/100 [==============================] - 1s 5ms/step - loss: 0.6964 - accuracy: 0.5052 - precision_8: 0.5029 - recall_8: 0.5616\n",
      "Epoch 5/10\n",
      "100/100 [==============================] - 1s 5ms/step - loss: 0.6967 - accuracy: 0.5056 - precision_8: 0.4686 - recall_8: 0.4761\n",
      "Epoch 6/10\n",
      "100/100 [==============================] - 1s 5ms/step - loss: 0.6981 - accuracy: 0.4857 - precision_8: 0.4560 - recall_8: 0.4414\n",
      "Epoch 7/10\n",
      "100/100 [==============================] - 1s 5ms/step - loss: 0.6971 - accuracy: 0.5051 - precision_8: 0.5137 - recall_8: 0.4701\n",
      "Epoch 8/10\n",
      "100/100 [==============================] - 0s 5ms/step - loss: 0.6987 - accuracy: 0.5007 - precision_8: 0.4922 - recall_8: 0.3790\n",
      "Epoch 9/10\n",
      "100/100 [==============================] - 1s 5ms/step - loss: 0.6964 - accuracy: 0.5068 - precision_8: 0.4962 - recall_8: 0.4531\n",
      "Epoch 10/10\n",
      "100/100 [==============================] - 1s 5ms/step - loss: 0.6993 - accuracy: 0.4845 - precision_8: 0.4857 - recall_8: 0.5701\n",
      "Attack Model without Protection:\n",
      "Number of predicted IN data:  33\n",
      "Accuracy:  0.50171875 \n",
      "\n",
      "Attack Model with Dirichlet k=1:\n",
      "Number of predicted IN data:  0\n",
      "Accuracy:  0.5 \n",
      "\n",
      "Attack Model with Dirichlet k=10:\n",
      "Number of predicted IN data:  847\n",
      "Accuracy:  0.50015625 \n",
      "\n",
      "Attack Model with Dirichlet k=100:\n",
      "Number of predicted IN data:  438\n",
      "Accuracy:  0.503125 \n",
      "\n",
      "\n",
      "Experiment k =  10\n",
      "Epoch 1/10\n",
      "100/100 [==============================] - 2s 5ms/step - loss: 0.8745 - accuracy: 0.5055 - precision_9: 0.5078 - recall_9: 0.5957\n",
      "Epoch 2/10\n",
      "100/100 [==============================] - 1s 5ms/step - loss: 0.6979 - accuracy: 0.5001 - precision_9: 0.5083 - recall_9: 0.7222\n",
      "Epoch 3/10\n",
      "100/100 [==============================] - 0s 5ms/step - loss: 0.6956 - accuracy: 0.5012 - precision_9: 0.4878 - recall_9: 0.2365\n",
      "Epoch 4/10\n",
      "100/100 [==============================] - 1s 5ms/step - loss: 0.6960 - accuracy: 0.5032 - precision_9: 0.5077 - recall_9: 0.5150\n",
      "Epoch 5/10\n",
      "100/100 [==============================] - 1s 5ms/step - loss: 0.6955 - accuracy: 0.4869 - precision_9: 0.4849 - recall_9: 0.5720\n",
      "Epoch 6/10\n",
      "100/100 [==============================] - 1s 5ms/step - loss: 0.6996 - accuracy: 0.4816 - precision_9: 0.4595 - recall_9: 0.4402\n",
      "Epoch 7/10\n",
      "100/100 [==============================] - 0s 5ms/step - loss: 0.6946 - accuracy: 0.5010 - precision_9: 0.4962 - recall_9: 0.5441\n",
      "Epoch 8/10\n",
      "100/100 [==============================] - 1s 5ms/step - loss: 0.6940 - accuracy: 0.5093 - precision_9: 0.5088 - recall_9: 0.7123\n",
      "Epoch 9/10\n",
      "100/100 [==============================] - 0s 5ms/step - loss: 0.6933 - accuracy: 0.5190 - precision_9: 0.5195 - recall_9: 0.5123\n",
      "Epoch 10/10\n",
      "100/100 [==============================] - 1s 5ms/step - loss: 0.6907 - accuracy: 0.5340 - precision_9: 0.5594 - recall_9: 0.2803\n",
      "Attack Model without Protection:\n",
      "Number of predicted IN data:  6329\n",
      "Accuracy:  0.48890625 \n",
      "\n",
      "Attack Model with Dirichlet k=1:\n",
      "Number of predicted IN data:  0\n",
      "Accuracy:  0.5 \n",
      "\n",
      "Attack Model with Dirichlet k=10:\n",
      "Number of predicted IN data:  1092\n",
      "Accuracy:  0.5 \n",
      "\n",
      "Attack Model with Dirichlet k=100:\n",
      "Number of predicted IN data:  6297\n",
      "Accuracy:  0.48453124999999997 \n",
      "\n",
      "\n",
      "Experiment k =  100\n",
      "Epoch 1/10\n",
      "100/100 [==============================] - 2s 5ms/step - loss: 0.7179 - accuracy: 0.4936 - precision_10: 0.4943 - recall_10: 0.4919\n",
      "Epoch 2/10\n",
      "100/100 [==============================] - 1s 5ms/step - loss: 0.6934 - accuracy: 0.5036 - precision_10: 0.5036 - recall_10: 0.5940\n",
      "Epoch 3/10\n",
      "100/100 [==============================] - 0s 5ms/step - loss: 0.6841 - accuracy: 0.5529 - precision_10: 0.5576 - recall_10: 0.5560\n",
      "Epoch 4/10\n",
      "100/100 [==============================] - 1s 5ms/step - loss: 0.5954 - accuracy: 0.6508 - precision_10: 0.6792 - recall_10: 0.5993\n",
      "Epoch 5/10\n",
      "100/100 [==============================] - 0s 5ms/step - loss: 0.4153 - accuracy: 0.8009 - precision_10: 0.8279 - recall_10: 0.7647\n",
      "Epoch 6/10\n",
      "100/100 [==============================] - 0s 5ms/step - loss: 0.2442 - accuracy: 0.9069 - precision_10: 0.9076 - recall_10: 0.9044\n",
      "Epoch 7/10\n",
      "100/100 [==============================] - 1s 5ms/step - loss: 0.1168 - accuracy: 0.9633 - precision_10: 0.9653 - recall_10: 0.9604\n",
      "Epoch 8/10\n",
      "100/100 [==============================] - 1s 5ms/step - loss: 0.0884 - accuracy: 0.9715 - precision_10: 0.9753 - recall_10: 0.9685\n",
      "Epoch 9/10\n",
      "100/100 [==============================] - 1s 5ms/step - loss: 0.0763 - accuracy: 0.9740 - precision_10: 0.9728 - recall_10: 0.9765\n",
      "Epoch 10/10\n",
      "100/100 [==============================] - 0s 5ms/step - loss: 0.0384 - accuracy: 0.9903 - precision_10: 0.9898 - recall_10: 0.9907\n",
      "Attack Model without Protection:\n",
      "Number of predicted IN data:  4928\n",
      "Accuracy:  0.7184375 \n",
      "\n",
      "Attack Model with Dirichlet k=1:\n",
      "Number of predicted IN data:  0\n",
      "Accuracy:  0.5 \n",
      "\n",
      "Attack Model with Dirichlet k=10:\n",
      "Number of predicted IN data:  1\n",
      "Accuracy:  0.50015625 \n",
      "\n",
      "Attack Model with Dirichlet k=100:\n",
      "Number of predicted IN data:  3795\n",
      "Accuracy:  0.9060937499999999 \n",
      "\n",
      "\n"
     ]
    }
   ],
   "source": [
    "dirichlet_experiment(k=1)\n",
    "dirichlet_experiment(k=10)\n",
    "dirichlet_experiment(k=100)"
   ]
  },
  {
   "cell_type": "markdown",
   "metadata": {
    "id": "dF-4O4-hTSsg"
   },
   "source": [
    "### Dirichlet k decay"
   ]
  },
  {
   "cell_type": "code",
   "execution_count": 25,
   "metadata": {
    "colab": {
     "base_uri": "https://localhost:8080/"
    },
    "id": "wqv7x4sAXtQr",
    "outputId": "25ecb5c8-59c6-498d-fa2a-81f45fbc6714"
   },
   "outputs": [
    {
     "name": "stdout",
     "output_type": "stream",
     "text": [
      "Experiment k =  100\n",
      "Epoch 1/10\n",
      "100/100 [==============================] - 2s 4ms/step - loss: 1.0354 - accuracy: 0.5017 - precision_8: 0.4872 - recall_8: 0.5130\n",
      "Epoch 2/10\n",
      "100/100 [==============================] - 0s 3ms/step - loss: 0.6937 - accuracy: 0.4939 - precision_8: 0.4865 - recall_8: 0.5288\n",
      "Epoch 3/10\n",
      "100/100 [==============================] - 0s 3ms/step - loss: 0.6932 - accuracy: 0.4921 - precision_8: 0.4756 - recall_8: 0.7179\n",
      "Epoch 4/10\n",
      "100/100 [==============================] - 0s 4ms/step - loss: 0.6932 - accuracy: 0.4928 - precision_8: 0.4921 - recall_8: 0.5532\n",
      "Epoch 5/10\n",
      "100/100 [==============================] - 0s 3ms/step - loss: 0.6932 - accuracy: 0.4968 - precision_8: 0.4983 - recall_8: 0.8229\n",
      "Epoch 6/10\n",
      "100/100 [==============================] - 0s 3ms/step - loss: 0.6932 - accuracy: 0.4983 - precision_8: 0.4583 - recall_8: 0.2697\n",
      "Epoch 7/10\n",
      "100/100 [==============================] - 0s 3ms/step - loss: 0.6932 - accuracy: 0.4924 - precision_8: 0.4804 - recall_8: 0.4520\n",
      "Epoch 8/10\n",
      "100/100 [==============================] - 0s 3ms/step - loss: 0.6932 - accuracy: 0.4961 - precision_8: 0.4983 - recall_8: 0.8962\n",
      "Epoch 9/10\n",
      "100/100 [==============================] - 0s 3ms/step - loss: 0.6932 - accuracy: 0.4849 - precision_8: 0.4903 - recall_8: 0.7716\n",
      "Epoch 10/10\n",
      "100/100 [==============================] - 0s 3ms/step - loss: 0.6932 - accuracy: 0.4926 - precision_8: 0.4958 - recall_8: 0.6150\n",
      "Attack Model without Protection:\n",
      "Number of predicted IN data:  0\n",
      "Accuracy:  0.5 \n",
      "\n",
      "Attack Model with Dirichlet k=1:\n",
      "Number of predicted IN data:  0\n",
      "Accuracy:  0.5 \n",
      "\n",
      "Attack Model with Dirichlet k=10:\n",
      "Number of predicted IN data:  0\n",
      "Accuracy:  0.5 \n",
      "\n",
      "Attack Model with Dirichlet k=100:\n",
      "Number of predicted IN data:  0\n",
      "Accuracy:  0.5 \n",
      "\n",
      "\n"
     ]
    }
   ],
   "source": [
    "dirichlet_experiment(k=100, decay_rate=0.7)"
   ]
  },
  {
   "cell_type": "code",
   "execution_count": null,
   "metadata": {
    "id": "6GFTXWY_PzVy"
   },
   "outputs": [],
   "source": []
  }
 ],
 "metadata": {
  "accelerator": "GPU",
  "colab": {
   "collapsed_sections": [],
   "name": "RL_Men_att",
   "provenance": []
  },
  "kernelspec": {
   "display_name": "Python 3",
   "language": "python",
   "name": "python3"
  },
  "language_info": {
   "codemirror_mode": {
    "name": "ipython",
    "version": 3
   },
   "file_extension": ".py",
   "mimetype": "text/x-python",
   "name": "python",
   "nbconvert_exporter": "python",
   "pygments_lexer": "ipython3",
   "version": "3.7.4"
  }
 },
 "nbformat": 4,
 "nbformat_minor": 1
}
