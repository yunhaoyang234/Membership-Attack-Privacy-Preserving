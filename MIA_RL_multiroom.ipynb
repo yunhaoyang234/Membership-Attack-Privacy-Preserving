{
  "nbformat": 4,
  "nbformat_minor": 0,
  "metadata": {
    "colab": {
      "name": "MIA_RL_multiroom",
      "provenance": [],
      "collapsed_sections": []
    },
    "kernelspec": {
      "display_name": "Python 3",
      "language": "python",
      "name": "python3"
    },
    "language_info": {
      "codemirror_mode": {
        "name": "ipython",
        "version": 3
      },
      "file_extension": ".py",
      "mimetype": "text/x-python",
      "name": "python",
      "nbconvert_exporter": "python",
      "pygments_lexer": "ipython3",
      "version": "3.7.0"
    },
    "accelerator": "GPU"
  },
  "cells": [
    {
      "cell_type": "markdown",
      "metadata": {
        "id": "ad6V490MxnYC"
      },
      "source": [
        "## Tensorflow 2.x Setup\n"
      ]
    },
    {
      "cell_type": "code",
      "metadata": {
        "colab": {
          "base_uri": "https://localhost:8080/"
        },
        "id": "pcauSkcpxnYE",
        "outputId": "7dcc3458-f528-40f8-8b72-4080b844cd93"
      },
      "source": [
        "%tensorflow_version 2.x\n",
        "import tensorflow as tf\n",
        "device_name = tf.test.gpu_device_name()\n",
        "if device_name != '/device:GPU:0':\n",
        "  raise SystemError('GPU device not found')\n",
        "print('Found GPU at: {}'.format(device_name))\n",
        "\n",
        "import random\n",
        "import numpy as np\n",
        "import math\n",
        "import matplotlib.pyplot as plt\n",
        "\n",
        "# tensorflow\n",
        "import tensorflow as tf\n",
        "print(tf.__version__)\n",
        "\n",
        "# pytorch\n",
        "import torch\n",
        "from torch import nn\n",
        "print(torch.__version__)\n",
        "\n",
        "# scikit-learn\n",
        "import sklearn\n",
        "from sklearn import cluster, decomposition, manifold, metrics\n",
        "import pandas as pd\n",
        "\n",
        "import scipy\n",
        "from scipy.stats import entropy\n",
        "from scipy.stats import dirichlet\n",
        "import ast\n",
        "\n",
        "# access google file system\n",
        "from google.colab import drive\n",
        "drive.mount('/content/drive')\n",
        "cwd = '/content/drive/My Drive/'\n",
        "data_dir = cwd + 'Mem_Att_RNN/data/'\n",
        "dir = cwd + 'Mem_Att_RNN/plots/'"
      ],
      "execution_count": 1,
      "outputs": [
        {
          "output_type": "stream",
          "name": "stdout",
          "text": [
            "Found GPU at: /device:GPU:0\n",
            "2.8.2\n",
            "1.11.0+cu113\n",
            "Mounted at /content/drive\n"
          ]
        }
      ]
    },
    {
      "cell_type": "markdown",
      "metadata": {
        "id": "EL_sc3uaOnLL"
      },
      "source": [
        "### Get critic trajectories and concatenate values and rewards-to-go"
      ]
    },
    {
      "cell_type": "code",
      "metadata": {
        "id": "t-gM0q2pNKkH"
      },
      "source": [
        "# shadow model (seed 1~10)\n",
        "# IN: label_1 ... label_10\n",
        "# OUT: label_11 ... label_20\n",
        "\n",
        "# attack model\n",
        "# attack( concat(value_traj_5, rewards_to_go_5) ) = IN\n",
        "# attack( concat(value_traj_15, rewards_to_go_15) ) = OUT\n",
        "\n",
        "# victim, whether seed 3 is used in training the target model\n",
        "# attack( concat(value_traj_3, rewards_to_go_3) ) ==> IN/OUT"
      ],
      "execution_count": null,
      "outputs": []
    },
    {
      "cell_type": "code",
      "metadata": {
        "id": "-oNNIhQMnz0c",
        "colab": {
          "base_uri": "https://localhost:8080/",
          "height": 206
        },
        "outputId": "32c07465-37a6-4e04-e60f-050211bbbfe0"
      },
      "source": [
        "df = pd.read_csv(data_dir+'mr_gae/critic_traj.csv')\n",
        "target_df = pd.read_csv(data_dir+'mr_gae_v/critic_traj.csv')\n",
        "\n",
        "df.head()"
      ],
      "execution_count": 2,
      "outputs": [
        {
          "output_type": "execute_result",
          "data": {
            "text/plain": [
              "                                               value  \\\n",
              "0  [0.002, 0.0, 0.202, 0.202, 0.289, 0.289, 0.289...   \n",
              "1  [0.346, 0.346, 0.0, 0.346, 0.345, 0.477, 0.477...   \n",
              "2  [0.346, 0.431, 0.346, 0.431, 0.346, 0.346, 0.4...   \n",
              "3  [0.002, 0.002, 0.002, 0.0, 0.0, 0.0, 0.202, 0....   \n",
              "4  [0.002, 0.0, 0.202, 0.202, 0.202, 0.289, 0.289...   \n",
              "\n",
              "                                              reward  \\\n",
              "0  [0.075, 0.104, 0.004, 0.029, 0.0, 0.024, 0.05,...   \n",
              "1  [0.0, 0.028, 0.411, 0.107, 0.142, 0.042, 0.074...   \n",
              "2  [0.103, 0.049, 0.098, 0.043, 0.091, 0.089, 0.0...   \n",
              "3  [0.031, 0.056, 0.082, 0.111, 0.141, 0.172, 0.0...   \n",
              "4  [0.089, 0.105, 0.013, 0.023, 0.035, 0.0, 0.01,...   \n",
              "\n",
              "                        env  label      corr  \n",
              "0  MiniGrid-MultiRoom-N2-v0      1  0.728538  \n",
              "1  MiniGrid-MultiRoom-N2-v0      1  0.577882  \n",
              "2  MiniGrid-MultiRoom-N2-v0      1  0.378762  \n",
              "3  MiniGrid-MultiRoom-N2-v0      1  0.600850  \n",
              "4  MiniGrid-MultiRoom-N2-v0      1  0.649842  "
            ],
            "text/html": [
              "\n",
              "  <div id=\"df-d4ab88bb-9302-4af2-98c7-81ded158a8c6\">\n",
              "    <div class=\"colab-df-container\">\n",
              "      <div>\n",
              "<style scoped>\n",
              "    .dataframe tbody tr th:only-of-type {\n",
              "        vertical-align: middle;\n",
              "    }\n",
              "\n",
              "    .dataframe tbody tr th {\n",
              "        vertical-align: top;\n",
              "    }\n",
              "\n",
              "    .dataframe thead th {\n",
              "        text-align: right;\n",
              "    }\n",
              "</style>\n",
              "<table border=\"1\" class=\"dataframe\">\n",
              "  <thead>\n",
              "    <tr style=\"text-align: right;\">\n",
              "      <th></th>\n",
              "      <th>value</th>\n",
              "      <th>reward</th>\n",
              "      <th>env</th>\n",
              "      <th>label</th>\n",
              "      <th>corr</th>\n",
              "    </tr>\n",
              "  </thead>\n",
              "  <tbody>\n",
              "    <tr>\n",
              "      <th>0</th>\n",
              "      <td>[0.002, 0.0, 0.202, 0.202, 0.289, 0.289, 0.289...</td>\n",
              "      <td>[0.075, 0.104, 0.004, 0.029, 0.0, 0.024, 0.05,...</td>\n",
              "      <td>MiniGrid-MultiRoom-N2-v0</td>\n",
              "      <td>1</td>\n",
              "      <td>0.728538</td>\n",
              "    </tr>\n",
              "    <tr>\n",
              "      <th>1</th>\n",
              "      <td>[0.346, 0.346, 0.0, 0.346, 0.345, 0.477, 0.477...</td>\n",
              "      <td>[0.0, 0.028, 0.411, 0.107, 0.142, 0.042, 0.074...</td>\n",
              "      <td>MiniGrid-MultiRoom-N2-v0</td>\n",
              "      <td>1</td>\n",
              "      <td>0.577882</td>\n",
              "    </tr>\n",
              "    <tr>\n",
              "      <th>2</th>\n",
              "      <td>[0.346, 0.431, 0.346, 0.431, 0.346, 0.346, 0.4...</td>\n",
              "      <td>[0.103, 0.049, 0.098, 0.043, 0.091, 0.089, 0.0...</td>\n",
              "      <td>MiniGrid-MultiRoom-N2-v0</td>\n",
              "      <td>1</td>\n",
              "      <td>0.378762</td>\n",
              "    </tr>\n",
              "    <tr>\n",
              "      <th>3</th>\n",
              "      <td>[0.002, 0.002, 0.002, 0.0, 0.0, 0.0, 0.202, 0....</td>\n",
              "      <td>[0.031, 0.056, 0.082, 0.111, 0.141, 0.172, 0.0...</td>\n",
              "      <td>MiniGrid-MultiRoom-N2-v0</td>\n",
              "      <td>1</td>\n",
              "      <td>0.600850</td>\n",
              "    </tr>\n",
              "    <tr>\n",
              "      <th>4</th>\n",
              "      <td>[0.002, 0.0, 0.202, 0.202, 0.202, 0.289, 0.289...</td>\n",
              "      <td>[0.089, 0.105, 0.013, 0.023, 0.035, 0.0, 0.01,...</td>\n",
              "      <td>MiniGrid-MultiRoom-N2-v0</td>\n",
              "      <td>1</td>\n",
              "      <td>0.649842</td>\n",
              "    </tr>\n",
              "  </tbody>\n",
              "</table>\n",
              "</div>\n",
              "      <button class=\"colab-df-convert\" onclick=\"convertToInteractive('df-d4ab88bb-9302-4af2-98c7-81ded158a8c6')\"\n",
              "              title=\"Convert this dataframe to an interactive table.\"\n",
              "              style=\"display:none;\">\n",
              "        \n",
              "  <svg xmlns=\"http://www.w3.org/2000/svg\" height=\"24px\"viewBox=\"0 0 24 24\"\n",
              "       width=\"24px\">\n",
              "    <path d=\"M0 0h24v24H0V0z\" fill=\"none\"/>\n",
              "    <path d=\"M18.56 5.44l.94 2.06.94-2.06 2.06-.94-2.06-.94-.94-2.06-.94 2.06-2.06.94zm-11 1L8.5 8.5l.94-2.06 2.06-.94-2.06-.94L8.5 2.5l-.94 2.06-2.06.94zm10 10l.94 2.06.94-2.06 2.06-.94-2.06-.94-.94-2.06-.94 2.06-2.06.94z\"/><path d=\"M17.41 7.96l-1.37-1.37c-.4-.4-.92-.59-1.43-.59-.52 0-1.04.2-1.43.59L10.3 9.45l-7.72 7.72c-.78.78-.78 2.05 0 2.83L4 21.41c.39.39.9.59 1.41.59.51 0 1.02-.2 1.41-.59l7.78-7.78 2.81-2.81c.8-.78.8-2.07 0-2.86zM5.41 20L4 18.59l7.72-7.72 1.47 1.35L5.41 20z\"/>\n",
              "  </svg>\n",
              "      </button>\n",
              "      \n",
              "  <style>\n",
              "    .colab-df-container {\n",
              "      display:flex;\n",
              "      flex-wrap:wrap;\n",
              "      gap: 12px;\n",
              "    }\n",
              "\n",
              "    .colab-df-convert {\n",
              "      background-color: #E8F0FE;\n",
              "      border: none;\n",
              "      border-radius: 50%;\n",
              "      cursor: pointer;\n",
              "      display: none;\n",
              "      fill: #1967D2;\n",
              "      height: 32px;\n",
              "      padding: 0 0 0 0;\n",
              "      width: 32px;\n",
              "    }\n",
              "\n",
              "    .colab-df-convert:hover {\n",
              "      background-color: #E2EBFA;\n",
              "      box-shadow: 0px 1px 2px rgba(60, 64, 67, 0.3), 0px 1px 3px 1px rgba(60, 64, 67, 0.15);\n",
              "      fill: #174EA6;\n",
              "    }\n",
              "\n",
              "    [theme=dark] .colab-df-convert {\n",
              "      background-color: #3B4455;\n",
              "      fill: #D2E3FC;\n",
              "    }\n",
              "\n",
              "    [theme=dark] .colab-df-convert:hover {\n",
              "      background-color: #434B5C;\n",
              "      box-shadow: 0px 1px 3px 1px rgba(0, 0, 0, 0.15);\n",
              "      filter: drop-shadow(0px 1px 2px rgba(0, 0, 0, 0.3));\n",
              "      fill: #FFFFFF;\n",
              "    }\n",
              "  </style>\n",
              "\n",
              "      <script>\n",
              "        const buttonEl =\n",
              "          document.querySelector('#df-d4ab88bb-9302-4af2-98c7-81ded158a8c6 button.colab-df-convert');\n",
              "        buttonEl.style.display =\n",
              "          google.colab.kernel.accessAllowed ? 'block' : 'none';\n",
              "\n",
              "        async function convertToInteractive(key) {\n",
              "          const element = document.querySelector('#df-d4ab88bb-9302-4af2-98c7-81ded158a8c6');\n",
              "          const dataTable =\n",
              "            await google.colab.kernel.invokeFunction('convertToInteractive',\n",
              "                                                     [key], {});\n",
              "          if (!dataTable) return;\n",
              "\n",
              "          const docLinkHtml = 'Like what you see? Visit the ' +\n",
              "            '<a target=\"_blank\" href=https://colab.research.google.com/notebooks/data_table.ipynb>data table notebook</a>'\n",
              "            + ' to learn more about interactive tables.';\n",
              "          element.innerHTML = '';\n",
              "          dataTable['output_type'] = 'display_data';\n",
              "          await google.colab.output.renderOutput(dataTable, element);\n",
              "          const docLink = document.createElement('div');\n",
              "          docLink.innerHTML = docLinkHtml;\n",
              "          element.appendChild(docLink);\n",
              "        }\n",
              "      </script>\n",
              "    </div>\n",
              "  </div>\n",
              "  "
            ]
          },
          "metadata": {},
          "execution_count": 2
        }
      ]
    },
    {
      "cell_type": "code",
      "metadata": {
        "id": "YIGA5uDupMQg"
      },
      "source": [
        "def concat_data(dataframe, pad_len=64):\n",
        "    # reshape the data into the shape that fit the attack model\n",
        "    data = []\n",
        "    for i in list(dataframe.index):\n",
        "        val_traj = ast.literal_eval(dataframe['value'][i])\n",
        "        rew_traj = ast.literal_eval(dataframe['reward'][i])\n",
        "        if len(val_traj) < pad_len:\n",
        "            val_traj = np.pad(val_traj, (pad_len-len(val_traj), 0), \n",
        "                              'constant', constant_values=(0, 0))\n",
        "            rew_traj = np.pad(rew_traj, (pad_len-len(rew_traj), 0), \n",
        "                              'constant', constant_values=(0, 0))\n",
        "        data.append(np.concatenate([val_traj[-pad_len:], rew_traj[-pad_len:]]))\n",
        "    return np.array(data)"
      ],
      "execution_count": 39,
      "outputs": []
    },
    {
      "cell_type": "code",
      "metadata": {
        "id": "sCz8z80Oo-SM",
        "colab": {
          "base_uri": "https://localhost:8080/"
        },
        "outputId": "9d010b82-1a59-4d1b-d4e1-a65bcf2a12b0"
      },
      "source": [
        "data = concat_data(df)\n",
        "label = df['label'].to_numpy()\n",
        "data.shape, label.shape"
      ],
      "execution_count": 40,
      "outputs": [
        {
          "output_type": "execute_result",
          "data": {
            "text/plain": [
              "((1000, 128), (1000,))"
            ]
          },
          "metadata": {},
          "execution_count": 40
        }
      ]
    },
    {
      "cell_type": "code",
      "metadata": {
        "id": "7dO4kbeNptK2"
      },
      "source": [
        "def get_label_vector(labels):\n",
        "    # Convert labels into vector form (one-hot embedding)\n",
        "    label_vectors = np.zeros((len(labels), np.max(labels)+1))\n",
        "    for i in range(len(labels)):\n",
        "        label_vectors[i, labels[i]] = 1\n",
        "    return label_vectors\n",
        "\n",
        "def get_att_data(data, label):\n",
        "    labels = get_label_vector(label)\n",
        "    c = list(zip(data, labels))\n",
        "    random.shuffle(c)\n",
        "    data, labels = zip(*c)\n",
        "    return np.array(data), np.array(labels)"
      ],
      "execution_count": 41,
      "outputs": []
    },
    {
      "cell_type": "code",
      "metadata": {
        "id": "6en96QQeH1EV",
        "colab": {
          "base_uri": "https://localhost:8080/"
        },
        "outputId": "d7e3876a-662f-48e9-daeb-d3dae3a66c65"
      },
      "source": [
        "data, labels = get_att_data(data, label)\n",
        "\n",
        "v_data = concat_data(target_df)\n",
        "v_label = target_df['label'].to_numpy()\n",
        "v_data, v_labels = get_att_data(v_data, v_label)\n",
        "\n",
        "v_data.shape, v_labels.shape"
      ],
      "execution_count": 42,
      "outputs": [
        {
          "output_type": "execute_result",
          "data": {
            "text/plain": [
              "((1000, 128), (1000, 2))"
            ]
          },
          "metadata": {},
          "execution_count": 42
        }
      ]
    },
    {
      "cell_type": "markdown",
      "metadata": {
        "id": "-_IYphsf9nUm"
      },
      "source": [
        "### Attack Model"
      ]
    },
    {
      "cell_type": "code",
      "metadata": {
        "id": "mSDk4ZNSqON1"
      },
      "source": [
        "import keras\n",
        "from keras.models import Sequential\n",
        "from keras.layers import Dense, Dropout, Flatten, Softmax, LSTM\n",
        "def build_att():\n",
        "    model = Sequential()\n",
        "    model.add(Dense(128, activation='relu'))\n",
        "    model.add(Dense(64, activation='relu'))\n",
        "    model.add(Flatten())\n",
        "    model.add(Dense(32, activation='relu'))\n",
        "    model.add(Dense(16, activation='relu'))\n",
        "    model.add(Dense(2))\n",
        "    model.add(Softmax())\n",
        "    opt = tf.keras.optimizers.Adam(learning_rate=0.001)\n",
        "    precision = keras.metrics.Precision(class_id=0)\n",
        "    recall = keras.metrics.Recall(class_id=0)\n",
        "    model.compile(loss='categorical_crossentropy', optimizer=opt, metrics=['accuracy', precision, recall])\n",
        "    return model"
      ],
      "execution_count": 43,
      "outputs": []
    },
    {
      "cell_type": "code",
      "metadata": {
        "colab": {
          "base_uri": "https://localhost:8080/"
        },
        "id": "gSUapK_bqmot",
        "outputId": "16aa1ada-ada6-4b83-a565-2d33a0182615"
      },
      "source": [
        "attack_model = build_att()\n",
        "attack_model.fit(x=data, y=labels, batch_size=64, epochs=20, verbose=True)\n",
        "attack_model.evaluate(x=v_data, y=v_labels, batch_size=64)"
      ],
      "execution_count": 44,
      "outputs": [
        {
          "output_type": "stream",
          "name": "stdout",
          "text": [
            "Epoch 1/20\n",
            "16/16 [==============================] - 1s 4ms/step - loss: 0.5901 - accuracy: 0.6870 - precision_2: 0.6685 - recall_2: 0.7420\n",
            "Epoch 2/20\n",
            "16/16 [==============================] - 0s 4ms/step - loss: 0.4854 - accuracy: 0.7570 - precision_2: 0.8640 - recall_2: 0.6100\n",
            "Epoch 3/20\n",
            "16/16 [==============================] - 0s 4ms/step - loss: 0.4669 - accuracy: 0.7680 - precision_2: 0.8641 - recall_2: 0.6360\n",
            "Epoch 4/20\n",
            "16/16 [==============================] - 0s 4ms/step - loss: 0.4349 - accuracy: 0.7920 - precision_2: 0.8989 - recall_2: 0.6580\n",
            "Epoch 5/20\n",
            "16/16 [==============================] - 0s 4ms/step - loss: 0.4158 - accuracy: 0.7940 - precision_2: 0.8995 - recall_2: 0.6620\n",
            "Epoch 6/20\n",
            "16/16 [==============================] - 0s 4ms/step - loss: 0.3796 - accuracy: 0.8310 - precision_2: 0.9190 - recall_2: 0.7260\n",
            "Epoch 7/20\n",
            "16/16 [==============================] - 0s 4ms/step - loss: 0.3711 - accuracy: 0.8260 - precision_2: 0.8881 - recall_2: 0.7460\n",
            "Epoch 8/20\n",
            "16/16 [==============================] - 0s 4ms/step - loss: 0.3322 - accuracy: 0.8630 - precision_2: 0.9116 - recall_2: 0.8040\n",
            "Epoch 9/20\n",
            "16/16 [==============================] - 0s 4ms/step - loss: 0.3377 - accuracy: 0.8440 - precision_2: 0.8874 - recall_2: 0.7880\n",
            "Epoch 10/20\n",
            "16/16 [==============================] - 0s 4ms/step - loss: 0.3012 - accuracy: 0.8690 - precision_2: 0.9203 - recall_2: 0.8080\n",
            "Epoch 11/20\n",
            "16/16 [==============================] - 0s 4ms/step - loss: 0.2609 - accuracy: 0.8940 - precision_2: 0.9283 - recall_2: 0.8540\n",
            "Epoch 12/20\n",
            "16/16 [==============================] - 0s 4ms/step - loss: 0.2386 - accuracy: 0.9170 - precision_2: 0.9465 - recall_2: 0.8840\n",
            "Epoch 13/20\n",
            "16/16 [==============================] - 0s 4ms/step - loss: 0.2207 - accuracy: 0.9160 - precision_2: 0.9315 - recall_2: 0.8980\n",
            "Epoch 14/20\n",
            "16/16 [==============================] - 0s 4ms/step - loss: 0.2349 - accuracy: 0.9130 - precision_2: 0.9275 - recall_2: 0.8960\n",
            "Epoch 15/20\n",
            "16/16 [==============================] - 0s 4ms/step - loss: 0.1868 - accuracy: 0.9300 - precision_2: 0.9479 - recall_2: 0.9100\n",
            "Epoch 16/20\n",
            "16/16 [==============================] - 0s 4ms/step - loss: 0.1564 - accuracy: 0.9490 - precision_2: 0.9535 - recall_2: 0.9440\n",
            "Epoch 17/20\n",
            "16/16 [==============================] - 0s 4ms/step - loss: 0.1526 - accuracy: 0.9460 - precision_2: 0.9533 - recall_2: 0.9380\n",
            "Epoch 18/20\n",
            "16/16 [==============================] - 0s 4ms/step - loss: 0.1380 - accuracy: 0.9450 - precision_2: 0.9569 - recall_2: 0.9320\n",
            "Epoch 19/20\n",
            "16/16 [==============================] - 0s 4ms/step - loss: 0.1312 - accuracy: 0.9520 - precision_2: 0.9538 - recall_2: 0.9500\n",
            "Epoch 20/20\n",
            "16/16 [==============================] - 0s 4ms/step - loss: 0.1116 - accuracy: 0.9570 - precision_2: 0.9561 - recall_2: 0.9580\n",
            "16/16 [==============================] - 0s 4ms/step - loss: 0.4009 - accuracy: 0.8700 - precision_2: 0.9798 - recall_2: 0.8314\n"
          ]
        },
        {
          "output_type": "execute_result",
          "data": {
            "text/plain": [
              "[0.400907039642334, 0.8700000047683716, 0.9797979593276978, 0.831428587436676]"
            ]
          },
          "metadata": {},
          "execution_count": 44
        }
      ]
    },
    {
      "cell_type": "markdown",
      "source": [
        "### Environment-based inference"
      ],
      "metadata": {
        "id": "Poik2zS9NZi1"
      }
    },
    {
      "cell_type": "code",
      "source": [
        "votes = []\n",
        "corrs = []\n",
        "preds = []\n",
        "actus = []\n",
        "\n",
        "for env, d in df.groupby('env'):\n",
        "    env_data = concat_data(d)\n",
        "    env_label = np.max(d['label'].to_numpy())\n",
        "    pred = np.argmax(attack_model.predict(env_data) , 1)\n",
        "    pred_label = 'in' if np.sum(pred) > len(d)/2 else 'out'\n",
        "    actu_label = 'in' if env_label==1 else 'out'\n",
        "    votes.append(np.sum(pred))\n",
        "    corrs.append(np.mean(d['corr'].to_numpy()))\n",
        "    preds.append(pred_label=='in')\n",
        "    actus.append(actu_label=='in')\n",
        "    print('prediction: ', pred_label, 'actual: ', actu_label, 'correct: ', pred_label==actu_label)  \n",
        " \n",
        "for env, d in target_df.groupby('env'):\n",
        "    env_data = concat_data(d)\n",
        "    env_label = np.max(d['label'].to_numpy())\n",
        "    pred = np.argmax(attack_model.predict(env_data) , 1)\n",
        "    pred_label = 'in' if np.sum(pred) > len(d)/2 else 'out'\n",
        "    actu_label = 'in' if env_label==1 else 'out'\n",
        "    votes.append(np.sum(pred))\n",
        "    corrs.append(np.mean(d['corr'].to_numpy()))\n",
        "    preds.append(pred_label=='in')\n",
        "    actus.append(actu_label=='in')\n",
        "    print('prediction: ', pred_label, 'actual: ', actu_label, 'correct: ', pred_label==actu_label)  "
      ],
      "metadata": {
        "colab": {
          "base_uri": "https://localhost:8080/"
        },
        "id": "TlAbK5GCM_MU",
        "outputId": "d6a6387c-4f20-42b3-fa9f-d0302983ceaa"
      },
      "execution_count": 45,
      "outputs": [
        {
          "output_type": "stream",
          "name": "stdout",
          "text": [
            "prediction:  in actual:  in correct:  True\n",
            "prediction:  in actual:  in correct:  True\n",
            "prediction:  out actual:  out correct:  True\n",
            "prediction:  out actual:  out correct:  True\n",
            "prediction:  out actual:  out correct:  True\n",
            "prediction:  out actual:  out correct:  True\n",
            "prediction:  out actual:  out correct:  True\n",
            "prediction:  out actual:  out correct:  True\n",
            "prediction:  out actual:  out correct:  True\n",
            "prediction:  out actual:  out correct:  True\n",
            "prediction:  out actual:  out correct:  True\n",
            "prediction:  out actual:  out correct:  True\n",
            "prediction:  in actual:  in correct:  True\n",
            "prediction:  in actual:  in correct:  True\n",
            "prediction:  in actual:  in correct:  True\n",
            "prediction:  in actual:  in correct:  True\n",
            "prediction:  in actual:  in correct:  True\n",
            "prediction:  in actual:  in correct:  True\n",
            "prediction:  in actual:  in correct:  True\n",
            "prediction:  in actual:  in correct:  True\n",
            "prediction:  in actual:  out correct:  False\n",
            "prediction:  out actual:  out correct:  True\n",
            "prediction:  out actual:  out correct:  True\n",
            "prediction:  out actual:  out correct:  True\n",
            "prediction:  out actual:  out correct:  True\n",
            "prediction:  in actual:  out correct:  False\n",
            "prediction:  out actual:  out correct:  True\n",
            "prediction:  out actual:  out correct:  True\n",
            "prediction:  out actual:  out correct:  True\n",
            "prediction:  out actual:  out correct:  True\n",
            "prediction:  out actual:  out correct:  True\n",
            "prediction:  out actual:  out correct:  True\n",
            "prediction:  in actual:  in correct:  True\n",
            "prediction:  in actual:  in correct:  True\n",
            "prediction:  in actual:  in correct:  True\n",
            "prediction:  in actual:  in correct:  True\n",
            "prediction:  in actual:  in correct:  True\n",
            "prediction:  in actual:  in correct:  True\n",
            "prediction:  out actual:  out correct:  True\n",
            "prediction:  out actual:  out correct:  True\n"
          ]
        }
      ]
    },
    {
      "cell_type": "code",
      "source": [
        "corrs, votes, preds, actus = np.array(corrs), np.array(votes), np.array(preds), np.array(actus)"
      ],
      "metadata": {
        "id": "eL-fuL44aXcN"
      },
      "execution_count": 46,
      "outputs": []
    },
    {
      "cell_type": "code",
      "source": [
        "import seaborn as sns\n",
        "\n",
        "idx = np.array([preds[i]==True and actus[i]==True for i in range(len(preds))])\n",
        "sns.scatterplot(corrs[idx], votes[idx], color='blue', label='predict in, actual in')\n",
        "\n",
        "idx = np.array([preds[i]==False and actus[i]==False for i in range(len(preds))])\n",
        "sns.scatterplot(corrs[idx], votes[idx], color='red', label='predict out, actual out')\n",
        "\n",
        "idx = np.array([preds[i]==False and actus[i]==True for i in range(len(preds))])\n",
        "sns.scatterplot(corrs[idx], votes[idx], color='blue', marker='x', label='predict out, actual in')\n",
        "\n",
        "idx = np.array([preds[i]==True and actus[i]==False for i in range(len(preds))])\n",
        "sns.scatterplot(corrs[idx], votes[idx], color='red', marker='x', label='predict in, actual out')"
      ],
      "metadata": {
        "id": "jdbEk3--NxXU",
        "colab": {
          "base_uri": "https://localhost:8080/",
          "height": 410
        },
        "outputId": "e962b73a-cfb7-4377-bd02-f5f571d1bc8e"
      },
      "execution_count": 48,
      "outputs": [
        {
          "output_type": "stream",
          "name": "stderr",
          "text": [
            "/usr/local/lib/python3.7/dist-packages/seaborn/_decorators.py:43: FutureWarning: Pass the following variables as keyword args: x, y. From version 0.12, the only valid positional argument will be `data`, and passing other arguments without an explicit keyword will result in an error or misinterpretation.\n",
            "  FutureWarning\n",
            "/usr/local/lib/python3.7/dist-packages/seaborn/_decorators.py:43: FutureWarning: Pass the following variables as keyword args: x, y. From version 0.12, the only valid positional argument will be `data`, and passing other arguments without an explicit keyword will result in an error or misinterpretation.\n",
            "  FutureWarning\n",
            "/usr/local/lib/python3.7/dist-packages/seaborn/_decorators.py:43: FutureWarning: Pass the following variables as keyword args: x, y. From version 0.12, the only valid positional argument will be `data`, and passing other arguments without an explicit keyword will result in an error or misinterpretation.\n",
            "  FutureWarning\n"
          ]
        },
        {
          "output_type": "execute_result",
          "data": {
            "text/plain": [
              "<matplotlib.axes._subplots.AxesSubplot at 0x7fcb85530e50>"
            ]
          },
          "metadata": {},
          "execution_count": 48
        },
        {
          "output_type": "display_data",
          "data": {
            "text/plain": [
              "<Figure size 432x288 with 1 Axes>"
            ],
            "image/png": "[encoded data removed]"
          },
          "metadata": {
            "needs_background": "light"
          }
        }
      ]
    },
    {
      "cell_type": "code",
      "source": [
        ""
      ],
      "metadata": {
        "id": "weWEpfB4ZuZg"
      },
      "execution_count": null,
      "outputs": []
    }
  ]
}