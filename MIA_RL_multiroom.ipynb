{
  "nbformat": 4,
  "nbformat_minor": 0,
  "metadata": {
    "colab": {
      "name": "MIA_RL_multiroom",
      "provenance": [],
      "collapsed_sections": []
    },
    "kernelspec": {
      "display_name": "Python 3",
      "language": "python",
      "name": "python3"
    },
    "language_info": {
      "codemirror_mode": {
        "name": "ipython",
        "version": 3
      },
      "file_extension": ".py",
      "mimetype": "text/x-python",
      "name": "python",
      "nbconvert_exporter": "python",
      "pygments_lexer": "ipython3",
      "version": "3.7.0"
    },
    "accelerator": "GPU"
  },
  "cells": [
    {
      "cell_type": "markdown",
      "metadata": {
        "id": "ad6V490MxnYC"
      },
      "source": [
        "## Tensorflow 2.x Setup\n"
      ]
    },
    {
      "cell_type": "code",
      "metadata": {
        "colab": {
          "base_uri": "https://localhost:8080/"
        },
        "id": "pcauSkcpxnYE",
        "outputId": "d77eb014-bfeb-4c20-f716-44977e1e8b31"
      },
      "source": [
        "%tensorflow_version 2.x\n",
        "import tensorflow as tf\n",
        "device_name = tf.test.gpu_device_name()\n",
        "if device_name != '/device:GPU:0':\n",
        "  raise SystemError('GPU device not found')\n",
        "print('Found GPU at: {}'.format(device_name))\n",
        "\n",
        "import random\n",
        "import numpy as np\n",
        "import math\n",
        "import matplotlib.pyplot as plt\n",
        "\n",
        "# tensorflow\n",
        "import tensorflow as tf\n",
        "print(tf.__version__)\n",
        "\n",
        "# pytorch\n",
        "import torch\n",
        "from torch import nn\n",
        "print(torch.__version__)\n",
        "\n",
        "# scikit-learn\n",
        "import sklearn\n",
        "from sklearn import cluster, decomposition, manifold, metrics\n",
        "import pandas as pd\n",
        "\n",
        "import scipy\n",
        "from scipy.stats import entropy\n",
        "from scipy.stats import dirichlet\n",
        "import ast\n",
        "\n",
        "# access google file system\n",
        "from google.colab import drive\n",
        "drive.mount('/content/drive')\n",
        "cwd = '/content/drive/My Drive/'\n",
        "data_dir = cwd + 'Mem_Att_RNN/data/'\n",
        "dir = cwd + 'Mem_Att_RNN/plots/'"
      ],
      "execution_count": 6,
      "outputs": [
        {
          "output_type": "stream",
          "name": "stdout",
          "text": [
            "Found GPU at: /device:GPU:0\n",
            "2.8.2\n",
            "1.11.0+cu113\n",
            "Drive already mounted at /content/drive; to attempt to forcibly remount, call drive.mount(\"/content/drive\", force_remount=True).\n"
          ]
        }
      ]
    },
    {
      "cell_type": "markdown",
      "metadata": {
        "id": "EL_sc3uaOnLL"
      },
      "source": [
        "### Get critic trajectories and concatenate values and rewards-to-go"
      ]
    },
    {
      "cell_type": "code",
      "metadata": {
        "id": "t-gM0q2pNKkH"
      },
      "source": [
        "# shadow model (seed 1~10)\n",
        "# IN: label_1 ... label_10\n",
        "# OUT: label_11 ... label_20\n",
        "\n",
        "# attack model\n",
        "# attack( concat(value_traj_5, rewards_to_go_5) ) = IN\n",
        "# attack( concat(value_traj_15, rewards_to_go_15) ) = OUT\n",
        "\n",
        "# victim, whether seed 3 is used in training the target model\n",
        "# attack( concat(value_traj_3, rewards_to_go_3) ) ==> IN/OUT"
      ],
      "execution_count": null,
      "outputs": []
    },
    {
      "cell_type": "code",
      "metadata": {
        "id": "-oNNIhQMnz0c",
        "colab": {
          "base_uri": "https://localhost:8080/",
          "height": 206
        },
        "outputId": "aa542192-23f3-40ca-c3ce-d5676e80a3f6"
      },
      "source": [
        "df = pd.read_csv(data_dir+'mr_gae/critic_traj.csv')\n",
        "target_df = pd.read_csv(data_dir+'mr_gae_v/critic_traj.csv')\n",
        "\n",
        "df.head()"
      ],
      "execution_count": 2,
      "outputs": [
        {
          "output_type": "execute_result",
          "data": {
            "text/plain": [
              "                                               value  \\\n",
              "0  [0.002, 0.0, 0.202, 0.202, 0.289, 0.289, 0.289...   \n",
              "1  [0.346, 0.346, 0.0, 0.346, 0.345, 0.477, 0.477...   \n",
              "2  [0.346, 0.431, 0.346, 0.431, 0.346, 0.346, 0.4...   \n",
              "3  [0.002, 0.002, 0.002, 0.0, 0.0, 0.0, 0.202, 0....   \n",
              "4  [0.002, 0.0, 0.202, 0.202, 0.202, 0.289, 0.289...   \n",
              "\n",
              "                                              reward  \\\n",
              "0  [0.075, 0.104, 0.004, 0.029, 0.0, 0.024, 0.05,...   \n",
              "1  [0.0, 0.028, 0.411, 0.107, 0.142, 0.042, 0.074...   \n",
              "2  [0.103, 0.049, 0.098, 0.043, 0.091, 0.089, 0.0...   \n",
              "3  [0.031, 0.056, 0.082, 0.111, 0.141, 0.172, 0.0...   \n",
              "4  [0.089, 0.105, 0.013, 0.023, 0.035, 0.0, 0.01,...   \n",
              "\n",
              "                        env  label      corr  \n",
              "0  MiniGrid-MultiRoom-N2-v0      1  0.728538  \n",
              "1  MiniGrid-MultiRoom-N2-v0      1  0.577882  \n",
              "2  MiniGrid-MultiRoom-N2-v0      1  0.378762  \n",
              "3  MiniGrid-MultiRoom-N2-v0      1  0.600850  \n",
              "4  MiniGrid-MultiRoom-N2-v0      1  0.649842  "
            ],
            "text/html": [
              "\n",
              "  <div id=\"df-ea26cc41-06b1-421c-909e-986ce0f14624\">\n",
              "    <div class=\"colab-df-container\">\n",
              "      <div>\n",
              "<style scoped>\n",
              "    .dataframe tbody tr th:only-of-type {\n",
              "        vertical-align: middle;\n",
              "    }\n",
              "\n",
              "    .dataframe tbody tr th {\n",
              "        vertical-align: top;\n",
              "    }\n",
              "\n",
              "    .dataframe thead th {\n",
              "        text-align: right;\n",
              "    }\n",
              "</style>\n",
              "<table border=\"1\" class=\"dataframe\">\n",
              "  <thead>\n",
              "    <tr style=\"text-align: right;\">\n",
              "      <th></th>\n",
              "      <th>value</th>\n",
              "      <th>reward</th>\n",
              "      <th>env</th>\n",
              "      <th>label</th>\n",
              "      <th>corr</th>\n",
              "    </tr>\n",
              "  </thead>\n",
              "  <tbody>\n",
              "    <tr>\n",
              "      <th>0</th>\n",
              "      <td>[0.002, 0.0, 0.202, 0.202, 0.289, 0.289, 0.289...</td>\n",
              "      <td>[0.075, 0.104, 0.004, 0.029, 0.0, 0.024, 0.05,...</td>\n",
              "      <td>MiniGrid-MultiRoom-N2-v0</td>\n",
              "      <td>1</td>\n",
              "      <td>0.728538</td>\n",
              "    </tr>\n",
              "    <tr>\n",
              "      <th>1</th>\n",
              "      <td>[0.346, 0.346, 0.0, 0.346, 0.345, 0.477, 0.477...</td>\n",
              "      <td>[0.0, 0.028, 0.411, 0.107, 0.142, 0.042, 0.074...</td>\n",
              "      <td>MiniGrid-MultiRoom-N2-v0</td>\n",
              "      <td>1</td>\n",
              "      <td>0.577882</td>\n",
              "    </tr>\n",
              "    <tr>\n",
              "      <th>2</th>\n",
              "      <td>[0.346, 0.431, 0.346, 0.431, 0.346, 0.346, 0.4...</td>\n",
              "      <td>[0.103, 0.049, 0.098, 0.043, 0.091, 0.089, 0.0...</td>\n",
              "      <td>MiniGrid-MultiRoom-N2-v0</td>\n",
              "      <td>1</td>\n",
              "      <td>0.378762</td>\n",
              "    </tr>\n",
              "    <tr>\n",
              "      <th>3</th>\n",
              "      <td>[0.002, 0.002, 0.002, 0.0, 0.0, 0.0, 0.202, 0....</td>\n",
              "      <td>[0.031, 0.056, 0.082, 0.111, 0.141, 0.172, 0.0...</td>\n",
              "      <td>MiniGrid-MultiRoom-N2-v0</td>\n",
              "      <td>1</td>\n",
              "      <td>0.600850</td>\n",
              "    </tr>\n",
              "    <tr>\n",
              "      <th>4</th>\n",
              "      <td>[0.002, 0.0, 0.202, 0.202, 0.202, 0.289, 0.289...</td>\n",
              "      <td>[0.089, 0.105, 0.013, 0.023, 0.035, 0.0, 0.01,...</td>\n",
              "      <td>MiniGrid-MultiRoom-N2-v0</td>\n",
              "      <td>1</td>\n",
              "      <td>0.649842</td>\n",
              "    </tr>\n",
              "  </tbody>\n",
              "</table>\n",
              "</div>\n",
              "      <button class=\"colab-df-convert\" onclick=\"convertToInteractive('df-ea26cc41-06b1-421c-909e-986ce0f14624')\"\n",
              "              title=\"Convert this dataframe to an interactive table.\"\n",
              "              style=\"display:none;\">\n",
              "        \n",
              "  <svg xmlns=\"http://www.w3.org/2000/svg\" height=\"24px\"viewBox=\"0 0 24 24\"\n",
              "       width=\"24px\">\n",
              "    <path d=\"M0 0h24v24H0V0z\" fill=\"none\"/>\n",
              "    <path d=\"M18.56 5.44l.94 2.06.94-2.06 2.06-.94-2.06-.94-.94-2.06-.94 2.06-2.06.94zm-11 1L8.5 8.5l.94-2.06 2.06-.94-2.06-.94L8.5 2.5l-.94 2.06-2.06.94zm10 10l.94 2.06.94-2.06 2.06-.94-2.06-.94-.94-2.06-.94 2.06-2.06.94z\"/><path d=\"M17.41 7.96l-1.37-1.37c-.4-.4-.92-.59-1.43-.59-.52 0-1.04.2-1.43.59L10.3 9.45l-7.72 7.72c-.78.78-.78 2.05 0 2.83L4 21.41c.39.39.9.59 1.41.59.51 0 1.02-.2 1.41-.59l7.78-7.78 2.81-2.81c.8-.78.8-2.07 0-2.86zM5.41 20L4 18.59l7.72-7.72 1.47 1.35L5.41 20z\"/>\n",
              "  </svg>\n",
              "      </button>\n",
              "      \n",
              "  <style>\n",
              "    .colab-df-container {\n",
              "      display:flex;\n",
              "      flex-wrap:wrap;\n",
              "      gap: 12px;\n",
              "    }\n",
              "\n",
              "    .colab-df-convert {\n",
              "      background-color: #E8F0FE;\n",
              "      border: none;\n",
              "      border-radius: 50%;\n",
              "      cursor: pointer;\n",
              "      display: none;\n",
              "      fill: #1967D2;\n",
              "      height: 32px;\n",
              "      padding: 0 0 0 0;\n",
              "      width: 32px;\n",
              "    }\n",
              "\n",
              "    .colab-df-convert:hover {\n",
              "      background-color: #E2EBFA;\n",
              "      box-shadow: 0px 1px 2px rgba(60, 64, 67, 0.3), 0px 1px 3px 1px rgba(60, 64, 67, 0.15);\n",
              "      fill: #174EA6;\n",
              "    }\n",
              "\n",
              "    [theme=dark] .colab-df-convert {\n",
              "      background-color: #3B4455;\n",
              "      fill: #D2E3FC;\n",
              "    }\n",
              "\n",
              "    [theme=dark] .colab-df-convert:hover {\n",
              "      background-color: #434B5C;\n",
              "      box-shadow: 0px 1px 3px 1px rgba(0, 0, 0, 0.15);\n",
              "      filter: drop-shadow(0px 1px 2px rgba(0, 0, 0, 0.3));\n",
              "      fill: #FFFFFF;\n",
              "    }\n",
              "  </style>\n",
              "\n",
              "      <script>\n",
              "        const buttonEl =\n",
              "          document.querySelector('#df-ea26cc41-06b1-421c-909e-986ce0f14624 button.colab-df-convert');\n",
              "        buttonEl.style.display =\n",
              "          google.colab.kernel.accessAllowed ? 'block' : 'none';\n",
              "\n",
              "        async function convertToInteractive(key) {\n",
              "          const element = document.querySelector('#df-ea26cc41-06b1-421c-909e-986ce0f14624');\n",
              "          const dataTable =\n",
              "            await google.colab.kernel.invokeFunction('convertToInteractive',\n",
              "                                                     [key], {});\n",
              "          if (!dataTable) return;\n",
              "\n",
              "          const docLinkHtml = 'Like what you see? Visit the ' +\n",
              "            '<a target=\"_blank\" href=https://colab.research.google.com/notebooks/data_table.ipynb>data table notebook</a>'\n",
              "            + ' to learn more about interactive tables.';\n",
              "          element.innerHTML = '';\n",
              "          dataTable['output_type'] = 'display_data';\n",
              "          await google.colab.output.renderOutput(dataTable, element);\n",
              "          const docLink = document.createElement('div');\n",
              "          docLink.innerHTML = docLinkHtml;\n",
              "          element.appendChild(docLink);\n",
              "        }\n",
              "      </script>\n",
              "    </div>\n",
              "  </div>\n",
              "  "
            ]
          },
          "metadata": {},
          "execution_count": 2
        }
      ]
    },
    {
      "cell_type": "code",
      "metadata": {
        "id": "YIGA5uDupMQg"
      },
      "source": [
        "def concat_data(dataframe, pad_len=32):\n",
        "    # reshape the data into the shape that fit the attack model\n",
        "    data = []\n",
        "    for i in list(dataframe.index):\n",
        "        val_traj = ast.literal_eval(dataframe['value'][i])\n",
        "        rew_traj = ast.literal_eval(dataframe['reward'][i])\n",
        "        if len(val_traj) < pad_len:\n",
        "            val_traj = np.pad(val_traj, (pad_len-len(val_traj), 0), \n",
        "                              'constant', constant_values=(0, 0))\n",
        "            rew_traj = np.pad(rew_traj, (pad_len-len(rew_traj), 0), \n",
        "                              'constant', constant_values=(0, 0))\n",
        "        data.append(np.concatenate([val_traj[-pad_len:], rew_traj[-pad_len:]]))\n",
        "    return np.array(data)"
      ],
      "execution_count": 103,
      "outputs": []
    },
    {
      "cell_type": "code",
      "metadata": {
        "id": "sCz8z80Oo-SM",
        "colab": {
          "base_uri": "https://localhost:8080/"
        },
        "outputId": "cb54c350-3f2a-493a-fa88-3b52c433b7fe"
      },
      "source": [
        "data = concat_data(df)\n",
        "label = df['label'].to_numpy()\n",
        "data.shape, label.shape"
      ],
      "execution_count": 98,
      "outputs": [
        {
          "output_type": "execute_result",
          "data": {
            "text/plain": [
              "((1000, 64), (1000,))"
            ]
          },
          "metadata": {},
          "execution_count": 98
        }
      ]
    },
    {
      "cell_type": "code",
      "metadata": {
        "id": "7dO4kbeNptK2"
      },
      "source": [
        "def get_label_vector(labels):\n",
        "    # Convert labels into vector form (one-hot embedding)\n",
        "    label_vectors = np.zeros((len(labels), np.max(labels)+1))\n",
        "    for i in range(len(labels)):\n",
        "        label_vectors[i, labels[i]] = 1\n",
        "    return label_vectors\n",
        "\n",
        "def get_att_data(data, label):\n",
        "    labels = get_label_vector(label)\n",
        "    c = list(zip(data, labels))\n",
        "    random.shuffle(c)\n",
        "    data, labels = zip(*c)\n",
        "    return np.array(data), np.array(labels)"
      ],
      "execution_count": 99,
      "outputs": []
    },
    {
      "cell_type": "code",
      "metadata": {
        "id": "6en96QQeH1EV",
        "colab": {
          "base_uri": "https://localhost:8080/"
        },
        "outputId": "3aca2484-cd5a-4ad7-a97e-262f935d40c2"
      },
      "source": [
        "data, labels = get_att_data(data, label)\n",
        "\n",
        "v_data = concat_data(target_df)\n",
        "v_label = target_df['label'].to_numpy()\n",
        "v_data, v_labels = get_att_data(v_data, v_label)\n",
        "\n",
        "v_data.shape, v_labels.shape"
      ],
      "execution_count": 100,
      "outputs": [
        {
          "output_type": "execute_result",
          "data": {
            "text/plain": [
              "((1000, 64), (1000, 2))"
            ]
          },
          "metadata": {},
          "execution_count": 100
        }
      ]
    },
    {
      "cell_type": "markdown",
      "metadata": {
        "id": "-_IYphsf9nUm"
      },
      "source": [
        "### Attack Model"
      ]
    },
    {
      "cell_type": "code",
      "metadata": {
        "id": "mSDk4ZNSqON1"
      },
      "source": [
        "import keras\n",
        "from keras.models import Sequential\n",
        "from keras.layers import Dense, Dropout, Flatten, Softmax, LSTM\n",
        "def build_att():\n",
        "    model = Sequential()\n",
        "    model.add(Dense(128, activation='relu'))\n",
        "    model.add(Dense(64, activation='relu'))\n",
        "    model.add(Flatten())\n",
        "    model.add(Dense(32, activation='relu'))\n",
        "    model.add(Dense(16, activation='relu'))\n",
        "    model.add(Dense(2))\n",
        "    model.add(Softmax())\n",
        "    opt = tf.keras.optimizers.Adam(learning_rate=0.001)\n",
        "    precision = keras.metrics.Precision(class_id=0)\n",
        "    recall = keras.metrics.Recall(class_id=0)\n",
        "    model.compile(loss='categorical_crossentropy', optimizer=opt, metrics=['accuracy', precision, recall])\n",
        "    return model"
      ],
      "execution_count": 27,
      "outputs": []
    },
    {
      "cell_type": "code",
      "metadata": {
        "colab": {
          "base_uri": "https://localhost:8080/"
        },
        "id": "gSUapK_bqmot",
        "outputId": "9522b08c-6d5b-4518-802f-90d6d1cee3c0"
      },
      "source": [
        "attack_model = build_att()\n",
        "attack_model.fit(x=data, y=labels, batch_size=64, epochs=20, verbose=True)\n",
        "attack_model.evaluate(x=v_data, y=v_labels, batch_size=64)"
      ],
      "execution_count": 101,
      "outputs": [
        {
          "output_type": "stream",
          "name": "stdout",
          "text": [
            "Epoch 1/20\n",
            "16/16 [==============================] - 1s 4ms/step - loss: 0.6321 - accuracy: 0.6850 - precision_5: 0.6803 - recall_5: 0.6980\n",
            "Epoch 2/20\n",
            "16/16 [==============================] - 0s 4ms/step - loss: 0.5079 - accuracy: 0.7670 - precision_5: 0.7987 - recall_5: 0.7140\n",
            "Epoch 3/20\n",
            "16/16 [==============================] - 0s 4ms/step - loss: 0.4465 - accuracy: 0.7910 - precision_5: 0.8241 - recall_5: 0.7400\n",
            "Epoch 4/20\n",
            "16/16 [==============================] - 0s 4ms/step - loss: 0.4073 - accuracy: 0.8080 - precision_5: 0.8500 - recall_5: 0.7480\n",
            "Epoch 5/20\n",
            "16/16 [==============================] - 0s 4ms/step - loss: 0.3754 - accuracy: 0.8250 - precision_5: 0.8556 - recall_5: 0.7820\n",
            "Epoch 6/20\n",
            "16/16 [==============================] - 0s 4ms/step - loss: 0.3544 - accuracy: 0.8450 - precision_5: 0.8758 - recall_5: 0.8040\n",
            "Epoch 7/20\n",
            "16/16 [==============================] - 0s 4ms/step - loss: 0.3379 - accuracy: 0.8620 - precision_5: 0.8868 - recall_5: 0.8300\n",
            "Epoch 8/20\n",
            "16/16 [==============================] - 0s 4ms/step - loss: 0.3228 - accuracy: 0.8690 - precision_5: 0.8884 - recall_5: 0.8440\n",
            "Epoch 9/20\n",
            "16/16 [==============================] - 0s 4ms/step - loss: 0.2930 - accuracy: 0.8690 - precision_5: 0.9037 - recall_5: 0.8260\n",
            "Epoch 10/20\n",
            "16/16 [==============================] - 0s 4ms/step - loss: 0.2911 - accuracy: 0.8730 - precision_5: 0.8894 - recall_5: 0.8520\n",
            "Epoch 11/20\n",
            "16/16 [==============================] - 0s 4ms/step - loss: 0.2678 - accuracy: 0.8880 - precision_5: 0.8975 - recall_5: 0.8760\n",
            "Epoch 12/20\n",
            "16/16 [==============================] - 0s 4ms/step - loss: 0.2505 - accuracy: 0.8930 - precision_5: 0.9052 - recall_5: 0.8780\n",
            "Epoch 13/20\n",
            "16/16 [==============================] - 0s 4ms/step - loss: 0.2483 - accuracy: 0.8980 - precision_5: 0.9146 - recall_5: 0.8780\n",
            "Epoch 14/20\n",
            "16/16 [==============================] - 0s 4ms/step - loss: 0.2526 - accuracy: 0.8930 - precision_5: 0.9035 - recall_5: 0.8800\n",
            "Epoch 15/20\n",
            "16/16 [==============================] - 0s 5ms/step - loss: 0.2283 - accuracy: 0.9050 - precision_5: 0.9074 - recall_5: 0.9020\n",
            "Epoch 16/20\n",
            "16/16 [==============================] - 0s 4ms/step - loss: 0.2232 - accuracy: 0.9130 - precision_5: 0.9223 - recall_5: 0.9020\n",
            "Epoch 17/20\n",
            "16/16 [==============================] - 0s 4ms/step - loss: 0.2049 - accuracy: 0.9190 - precision_5: 0.9320 - recall_5: 0.9040\n",
            "Epoch 18/20\n",
            "16/16 [==============================] - 0s 4ms/step - loss: 0.2053 - accuracy: 0.9240 - precision_5: 0.9190 - recall_5: 0.9300\n",
            "Epoch 19/20\n",
            "16/16 [==============================] - 0s 4ms/step - loss: 0.2000 - accuracy: 0.9220 - precision_5: 0.9289 - recall_5: 0.9140\n",
            "Epoch 20/20\n",
            "16/16 [==============================] - 0s 4ms/step - loss: 0.2161 - accuracy: 0.9130 - precision_5: 0.9138 - recall_5: 0.9120\n",
            "16/16 [==============================] - 0s 3ms/step - loss: 0.2820 - accuracy: 0.8840 - precision_5: 0.9771 - recall_5: 0.8543\n"
          ]
        },
        {
          "output_type": "execute_result",
          "data": {
            "text/plain": [
              "[0.2820277810096741, 0.8840000033378601, 0.9771241545677185, 0.854285717010498]"
            ]
          },
          "metadata": {},
          "execution_count": 101
        }
      ]
    },
    {
      "cell_type": "markdown",
      "source": [
        "### Environment-based inference"
      ],
      "metadata": {
        "id": "Poik2zS9NZi1"
      }
    },
    {
      "cell_type": "code",
      "source": [
        "for env, d in df.groupby('env'):\n",
        "    env_data = concat_data(d)\n",
        "    env_label = np.max(d['label'].to_numpy())\n",
        "    pred = np.argmax(attack_model.predict(env_data) , 1)\n",
        "    pred_label = 'in' if np.sum(pred) > len(d)/2 else 'out'\n",
        "    actu_label = 'in' if env_label==1 else 'out'\n",
        "    print('prediction: ', pred_label, 'actual: ', actu_label, 'correct: ', pred_label==actu_label)  \n",
        " \n",
        "for env, d in target_df.groupby('env'):\n",
        "    env_data = concat_data(d)\n",
        "    env_label = np.max(d['label'].to_numpy())\n",
        "    pred = np.argmax(attack_model.predict(env_data) , 1)\n",
        "    pred_label = 'in' if np.sum(pred) > len(d)/2 else 'out'\n",
        "    actu_label = 'in' if env_label==1 else 'out'\n",
        "    print('prediction: ', pred_label, 'actual: ', actu_label, 'correct: ', pred_label==actu_label)  "
      ],
      "metadata": {
        "colab": {
          "base_uri": "https://localhost:8080/"
        },
        "id": "TlAbK5GCM_MU",
        "outputId": "5389414a-49e5-418a-f099-21cc0dcf9cf2"
      },
      "execution_count": 109,
      "outputs": [
        {
          "output_type": "stream",
          "name": "stdout",
          "text": [
            "prediction:  in actual:  in correct:  True\n",
            "prediction:  in actual:  in correct:  True\n",
            "prediction:  out actual:  out correct:  True\n",
            "prediction:  out actual:  out correct:  True\n",
            "prediction:  out actual:  out correct:  True\n",
            "prediction:  out actual:  out correct:  True\n",
            "prediction:  out actual:  out correct:  True\n",
            "prediction:  out actual:  out correct:  True\n",
            "prediction:  out actual:  out correct:  True\n",
            "prediction:  out actual:  out correct:  True\n",
            "prediction:  out actual:  out correct:  True\n",
            "prediction:  out actual:  out correct:  True\n",
            "prediction:  in actual:  in correct:  True\n",
            "prediction:  in actual:  in correct:  True\n",
            "prediction:  in actual:  in correct:  True\n",
            "prediction:  in actual:  in correct:  True\n",
            "prediction:  in actual:  in correct:  True\n",
            "prediction:  in actual:  in correct:  True\n",
            "prediction:  in actual:  in correct:  True\n",
            "prediction:  in actual:  in correct:  True\n",
            "prediction:  out actual:  out correct:  True\n",
            "prediction:  out actual:  out correct:  True\n",
            "prediction:  out actual:  out correct:  True\n",
            "prediction:  out actual:  out correct:  True\n",
            "prediction:  out actual:  out correct:  True\n",
            "prediction:  in actual:  out correct:  False\n",
            "prediction:  out actual:  out correct:  True\n",
            "prediction:  out actual:  out correct:  True\n",
            "prediction:  out actual:  out correct:  True\n",
            "prediction:  out actual:  out correct:  True\n",
            "prediction:  out actual:  out correct:  True\n",
            "prediction:  out actual:  out correct:  True\n",
            "prediction:  in actual:  in correct:  True\n",
            "prediction:  in actual:  in correct:  True\n",
            "prediction:  in actual:  in correct:  True\n",
            "prediction:  in actual:  in correct:  True\n",
            "prediction:  in actual:  in correct:  True\n",
            "prediction:  in actual:  in correct:  True\n",
            "prediction:  out actual:  out correct:  True\n",
            "prediction:  out actual:  out correct:  True\n"
          ]
        }
      ]
    },
    {
      "cell_type": "code",
      "source": [
        ""
      ],
      "metadata": {
        "id": "jdbEk3--NxXU"
      },
      "execution_count": null,
      "outputs": []
    }
  ]
}