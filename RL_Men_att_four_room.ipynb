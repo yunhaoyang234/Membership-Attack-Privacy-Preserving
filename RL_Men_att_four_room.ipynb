{
 "cells": [
  {
   "cell_type": "markdown",
   "metadata": {
    "id": "ad6V490MxnYC"
   },
   "source": [
    "## Tensorflow 2.x Setup\n"
   ]
  },
  {
   "cell_type": "code",
   "execution_count": 6,
   "metadata": {
    "colab": {
     "base_uri": "https://localhost:8080/"
    },
    "id": "pcauSkcpxnYE",
    "outputId": "73b53a6f-d9b3-456f-d511-4499bd0080a6"
   },
   "outputs": [
    {
     "name": "stdout",
     "output_type": "stream",
     "text": [
      "2.5.0\n",
      "1.9.0\n"
     ]
    }
   ],
   "source": [
    "import random\n",
    "import numpy as np\n",
    "import math\n",
    "import matplotlib.pyplot as plt\n",
    "\n",
    "# tensorflow\n",
    "import tensorflow as tf\n",
    "print(tf.__version__)\n",
    "\n",
    "# pytorch\n",
    "import torch\n",
    "print(torch.__version__)\n",
    "\n",
    "# scikit-learn\n",
    "import sklearn\n",
    "from sklearn import cluster, decomposition, manifold\n",
    "import pandas as pd\n",
    "\n",
    "import scipy\n",
    "from scipy.stats import entropy\n",
    "from scipy.stats import dirichlet\n",
    "\n",
    "import gym\n",
    "\n",
    "cwd = 'rl-starter-files/storage/'"
   ]
  },
  {
   "cell_type": "markdown",
   "metadata": {
    "id": "C8B1oyuU6_Mf"
   },
   "source": [
    "### Abstract Idea\n",
    "\n",
    "victim: the model we don't know where it's starting, we want to attack on\n",
    "\n",
    "shadow_1: a model starts from room 1, use to generate IN data for room one.\n",
    "s_2\n",
    "s_3\n",
    "\n",
    "label_1: \"label\" for room 1.\n",
    "label_2\n",
    "label_3\n",
    "\n",
    "shadow_i + label_i = in\n",
    "shadow_i + label_j (i != j) = out\n",
    "\n",
    "victim + label_2 = in ~ conclusion"
   ]
  },
  {
   "cell_type": "markdown",
   "metadata": {
    "id": "EL_sc3uaOnLL"
   },
   "source": [
    "### Get action probabilities"
   ]
  },
  {
   "cell_type": "code",
   "execution_count": 7,
   "metadata": {
    "id": "-oNNIhQMnz0c"
   },
   "outputs": [],
   "source": [
    "'''\n",
    "You can change the file directories to your models\n",
    "'''\n",
    "df = pd.read_csv(cwd+'fr_shadow_1/probabilities.csv')\n",
    "df0 = pd.read_csv(cwd+'fr_shadow_2/probabilities.csv')\n",
    "df1 = pd.read_csv(cwd+'fr_label_1/probabilities.csv')\n",
    "df2 = pd.read_csv(cwd+'fr_label_2/probabilities.csv')"
   ]
  },
  {
   "cell_type": "code",
   "execution_count": 7,
   "metadata": {
    "colab": {
     "base_uri": "https://localhost:8080/"
    },
    "id": "YIGA5uDupMQg",
    "outputId": "43071fd9-5ad8-4446-df83-540a5a29a3c9"
   },
   "outputs": [
    {
     "data": {
      "text/plain": [
       "(3200, 7, 64)"
      ]
     },
     "execution_count": 7,
     "metadata": {
      "tags": []
     },
     "output_type": "execute_result"
    }
   ],
   "source": [
    "def reshape_data(dataframe):\n",
    "    '''\n",
    "    reshape the data into the shape that fit the attack model\n",
    "    input: pandas dataframe stores the action probabilities\n",
    "    output: data in shape (batch, action_space, 64)\n",
    "            sequence length of one episode is default to 64\n",
    "    '''\n",
    "    data = dataframe.to_numpy()\n",
    "    data = data.reshape((len(data)//64, 64, 7))\n",
    "    data = data.swapaxes(1,2)\n",
    "    return data\n",
    "\n",
    "data0 = reshape_data(df)\n",
    "data00 = reshape_data(df0)\n",
    "data1 = reshape_data(df1)\n",
    "data2 = reshape_data(df2)\n",
    "data0.shape"
   ]
  },
  {
   "cell_type": "code",
   "execution_count": 9,
   "metadata": {
    "colab": {
     "base_uri": "https://localhost:8080/"
    },
    "id": "sCz8z80Oo-SM",
    "outputId": "fec6f12b-134c-4c9a-eff5-7dba847a34c7"
   },
   "outputs": [
    {
     "data": {
      "text/plain": [
       "((3200, 14, 64), (3200, 14, 64))"
      ]
     },
     "execution_count": 9,
     "metadata": {
      "tags": []
     },
     "output_type": "execute_result"
    }
   ],
   "source": [
    "# Put IN and OUT data together\n",
    "# You can concatenate more data if you have\n",
    "in_data = np.concatenate([np.concatenate([data0[:1600], data1[:1600]], axis=1),\n",
    "                          np.concatenate([data00[:1600], data2[:1600]], axis=1)\n",
    "                          # add more data if there are\n",
    "                         ])\n",
    "\n",
    "out_data = np.concatenate([np.concatenate([data0[:1600], data2[:1600]], axis=1),\n",
    "                           np.concatenate([data00[:1600], data1[:1600]], axis=1)\n",
    "                           # add more data if there are\n",
    "                          ])\n",
    "in_data.shape, out_data.shape"
   ]
  },
  {
   "cell_type": "code",
   "execution_count": 10,
   "metadata": {
    "colab": {
     "base_uri": "https://localhost:8080/"
    },
    "id": "7dO4kbeNptK2",
    "outputId": "b7f1b579-d1c1-4a16-9725-492705774d71"
   },
   "outputs": [
    {
     "data": {
      "text/plain": [
       "((4400, 14, 64), (4400, 2))"
      ]
     },
     "execution_count": 10,
     "metadata": {
      "tags": []
     },
     "output_type": "execute_result"
    }
   ],
   "source": [
    "def get_att_data(in_data, out_data):\n",
    "    '''\n",
    "    Assign IN/OUT labels to the data and shuffle the data\n",
    "    input: in_data/out_data shape (batch, action_space)\n",
    "    output: (batch*2, action_space), (batch*2,)\n",
    "    '''\n",
    "    in_label = [1.0]*len(in_data)\n",
    "    out_label = [0.0]*len(out_data)\n",
    "    labels = in_label + out_label\n",
    "    in_data = [d for d in in_data]\n",
    "    out_data = [d for d in out_data]\n",
    "    data = in_data + out_data\n",
    "\n",
    "    c = list(zip(data, labels))\n",
    "    random.shuffle(c)\n",
    "    data, labels = zip(*c)\n",
    "    return np.array(data), np.array(labels)\n",
    "\n",
    "def get_label_vector(labels):\n",
    "    '''\n",
    "    Convert label into vector form\n",
    "    Example:\n",
    "    input: [1, 2]\n",
    "    output: [[0,1,0], [0,0,1]]\n",
    "    '''\n",
    "    label_vectors = np.zeros((len(labels), np.max(labels)+1))\n",
    "    for i in range(len(labels)):\n",
    "        label_vectors[i, labels[i]] = 1\n",
    "    return label_vectors\n",
    "\n",
    "data, labels = get_att_data(in_data, out_data)\n",
    "label_vec = get_label_vector(np.array(labels, dtype=np.int))\n",
    "\n",
    "test_size = 2000\n",
    "data, test_data = data[:-test_size], data[-test_size:]\n",
    "label_vec, test_label = label_vec[:-test_size], label_vec[-test_size:]\n",
    "\n",
    "data.shape, label_vec.shape"
   ]
  },
  {
   "cell_type": "markdown",
   "metadata": {
    "id": "-_IYphsf9nUm"
   },
   "source": [
    "### Attack Model"
   ]
  },
  {
   "cell_type": "code",
   "execution_count": 11,
   "metadata": {
    "id": "mSDk4ZNSqON1"
   },
   "outputs": [],
   "source": [
    "import keras\n",
    "from keras.models import Sequential\n",
    "from keras.layers import Dense, Dropout, Flatten, Softmax\n",
    "def build_att():\n",
    "    '''\n",
    "    Build a multi-layer perceptron for attacking\n",
    "    '''\n",
    "    model = Sequential()\n",
    "    model.add(Dense(128, activation='relu'))\n",
    "    model.add(Dense(64, activation='relu'))\n",
    "    model.add(Flatten())\n",
    "    model.add(Dense(32, activation='relu'))\n",
    "    model.add(Dense(16, activation='relu'))\n",
    "    model.add(Dense(2))\n",
    "    model.add(Softmax())\n",
    "    opt = keras.optimizers.Adam(learning_rate=0.001)\n",
    "    precision = keras.metrics.Precision(class_id=0)\n",
    "    recall = keras.metrics.Recall(class_id=0)\n",
    "    model.compile(loss='categorical_crossentropy', optimizer=opt, metrics=['accuracy', precision, recall])\n",
    "    return model"
   ]
  },
  {
   "cell_type": "code",
   "execution_count": 12,
   "metadata": {
    "colab": {
     "base_uri": "https://localhost:8080/"
    },
    "id": "gSUapK_bqmot",
    "outputId": "ad70df51-9bb2-43e9-f05e-20068f2f03bc"
   },
   "outputs": [
    {
     "name": "stdout",
     "output_type": "stream",
     "text": [
      "32/32 [==============================] - 1s 4ms/step - loss: 0.0500 - accuracy: 0.9810 - precision: 1.0000 - recall: 0.9618\n"
     ]
    },
    {
     "data": {
      "text/plain": [
       "[0.049959827214479446, 0.9810000061988831, 1.0, 0.9617705941200256]"
      ]
     },
     "execution_count": 12,
     "metadata": {
      "tags": []
     },
     "output_type": "execute_result"
    }
   ],
   "source": [
    "attack_model = build_att()\n",
    "attack_model.fit(x=data, y=label_vec, batch_size=64, epochs=7, verbose=False)\n",
    "attack_model.evaluate(x=test_data, y=test_label, batch_size=64)"
   ]
  },
  {
   "cell_type": "markdown",
   "metadata": {
    "id": "jpEqsL2wB0i-"
   },
   "source": [
    "### Privacy Preserving"
   ]
  },
  {
   "cell_type": "code",
   "execution_count": 13,
   "metadata": {
    "colab": {
     "base_uri": "https://localhost:8080/"
    },
    "id": "6axyirgX-4C9",
    "outputId": "e65d4c08-9c40-4ff7-b289-1ff59528c97b"
   },
   "outputs": [
    {
     "name": "stdout",
     "output_type": "stream",
     "text": [
      "Attack Model without Protection:\n",
      "Number of predicted IN data:  3304\n",
      "Accuracy:  0.98375 \n",
      "\n",
      "Attack Model with Dirichlet k=1:\n",
      "Number of predicted IN data:  0\n",
      "Accuracy:  0.5 \n",
      "\n"
     ]
    },
    {
     "data": {
      "text/plain": [
       "0.5"
      ]
     },
     "execution_count": 13,
     "metadata": {
      "tags": []
     },
     "output_type": "execute_result"
    }
   ],
   "source": [
    "def attack_accuracy(model, victim, in_label, out_label):\n",
    "    '''\n",
    "    Evaluate the attacking on the victim\n",
    "    input: model is the attack model, victim is the target model,\n",
    "           in_label/out_label is action probabilities from label models \n",
    "           that are considered in/out with respect to the target model.\n",
    "    output: attack accuracy\n",
    "    '''\n",
    "    test = np.concatenate([victim, in_label], axis=1)\n",
    "    pred1 = np.argmax(model.predict(test), axis=1)\n",
    "    acc = sklearn.metrics.accuracy_score(np.ones((len(in_label,))), pred1)\n",
    "\n",
    "    test = np.concatenate([victim, out_label], axis=1)\n",
    "    pred2 = np.argmax(model.predict(test), axis=1)\n",
    "    print('Number of predicted IN data: ', np.sum(pred1+pred2))\n",
    "    acc += sklearn.metrics.accuracy_score(np.zeros((len(out_label,))), pred2)\n",
    "    print('Accuracy: ', acc/2, '\\n')\n",
    "    return acc/2\n",
    "\n",
    "'''\n",
    "You can change the file directories to your models\n",
    "'''\n",
    "victim_df = pd.read_csv(cwd+'fr_test/probabilities.csv')\n",
    "victim = reshape_data(victim_df)\n",
    "print('Attack Model without Protection:')\n",
    "attack_accuracy(attack_model, victim, data1,data2)\n",
    "\n",
    "prot_victim_df = pd.read_csv(cwd+'data/test1/probabilities.csv')\n",
    "prot_victim = reshape_data(prot_victim_df)\n",
    "print('Attack Model with Dirichlet k=1:')\n",
    "attack_accuracy(attack_model, prot_victim, data1,data2)"
   ]
  },
  {
   "cell_type": "code",
   "execution_count": 14,
   "metadata": {
    "colab": {
     "base_uri": "https://localhost:8080/"
    },
    "id": "C-hbykC6Hr6V",
    "outputId": "47117d2b-fe2c-4f72-d664-d56baa7adf48"
   },
   "outputs": [
    {
     "name": "stdout",
     "output_type": "stream",
     "text": [
      "Attack Model with Dirichlet k=10:\n",
      "Number of predicted IN data:  62\n",
      "Accuracy:  0.498125 \n",
      "\n",
      "Attack Model with Dirichlet k=100:\n",
      "Number of predicted IN data:  275\n",
      "Accuracy:  0.50359375 \n",
      "\n",
      "Attack Model with Dirichlet k=10000:\n",
      "Number of predicted IN data:  406\n",
      "Accuracy:  0.5171875 \n",
      "\n"
     ]
    },
    {
     "data": {
      "text/plain": [
       "0.5171875"
      ]
     },
     "execution_count": 14,
     "metadata": {
      "tags": []
     },
     "output_type": "execute_result"
    }
   ],
   "source": [
    "'''\n",
    "You can change the file directories to your protected models\n",
    "'''\n",
    "prot_victim_df = pd.read_csv(cwd+'data/test10/probabilities.csv')\n",
    "prot_victim = reshape_data(prot_victim_df)\n",
    "print('Attack Model with Dirichlet k=10:')\n",
    "attack_accuracy(attack_model, prot_victim, data1, data2)\n",
    "\n",
    "prot_victim_df = pd.read_csv(cwd+'data/test100/probabilities.csv')\n",
    "prot_victim = reshape_data(prot_victim_df)\n",
    "print('Attack Model with Dirichlet k=100:')\n",
    "attack_accuracy(attack_model, prot_victim, data1, data2)\n",
    "\n",
    "victim_df = pd.read_csv(cwd+'data/test10000/probabilities.csv')\n",
    "victim = reshape_data(victim_df)\n",
    "print('Attack Model with Dirichlet k=10000:')\n",
    "attack_accuracy(attack_model, victim, data1,data2)"
   ]
  },
  {
   "cell_type": "markdown",
   "metadata": {
    "id": "CytY3dXWygNg"
   },
   "source": [
    "### Train Attack Model to fit Dirichlet"
   ]
  },
  {
   "cell_type": "code",
   "execution_count": 94,
   "metadata": {
    "id": "ILL9YeOIOjy2"
   },
   "outputs": [],
   "source": [
    "def dirichlet_dist(traj, k=1, decay_rate=1, decay_step=10000):\n",
    "    '''\n",
    "    apply dirichlet distribution to the trajectories\n",
    "    input: traj in shape (batch, action_space)\n",
    "    THIS FUNCTION IS NOT USED IN THE CODE, THIS IS ONLY FOR DOCUMENTATION PURPOSE\n",
    "    TO SHOW HOW THE DIRICHLET MECHANISM IS APPLIED\n",
    "    '''\n",
    "    for i in range(len(traj)):\n",
    "        alpha = np.exp(traj[i]) * k * (decay_rate ** (i//decay_step))\n",
    "        rv = dirichlet.rvs(alpha, size=1, random_state=None)[0]\n",
    "        while np.min(rv)==0:\n",
    "            rv = dirichlet.rvs(alpha, size=1, random_state=None)[0]\n",
    "        traj[i] = np.log(rv)\n",
    "    return traj\n",
    "\n",
    "def dirichlet_experiment(k=1, decay_rate=1, decay_step=10000):\n",
    "    # Experiments for exploring how constant k and its decay will affect\n",
    "    # the attacking accuracy\n",
    "    # You can change the file directories to run your own experiments\n",
    "    print('Experiment k = ', k)\n",
    "    df = pd.read_csv(cwd+'fr_exp/'+'fr_1'+'_k_'+str(k)+'_decay_'+str(decay_rate)+'_step_'+str(decay_step)+'.csv')\n",
    "    df0 = pd.read_csv(cwd+'fr_exp/'+'fr_2'+'_k_'+str(k)+'_decay_'+str(decay_rate)+'_step_'+str(decay_step)+'.csv')\n",
    "    df1 = pd.read_csv(cwd+'fr_label_1/probabilities.csv')\n",
    "    df2 = pd.read_csv(cwd+'fr_label_2/probabilities.csv')\n",
    "    data0 = reshape_data(df)\n",
    "    data00 = reshape_data(df0)\n",
    "    data1 = reshape_data(df1)\n",
    "    data2 = reshape_data(df2)\n",
    "\n",
    "    in_data = np.concatenate([np.concatenate([data0[:1600], data1[:1600]], axis=1),\n",
    "                          np.concatenate([data00[:1600], data2[:1600]], axis=1)])\n",
    "\n",
    "    out_data = np.concatenate([np.concatenate([data0[:1600], data2[:1600]], axis=1),\n",
    "                              np.concatenate([data00[:1600], data1[:1600]], axis=1)])\n",
    "    \n",
    "    data, labels = get_att_data(in_data, out_data)\n",
    "    label_vec = get_label_vector(np.array(labels, dtype=np.int))\n",
    "    attack_model = build_att()\n",
    "    attack_model.fit(x=data, y=label_vec, batch_size=64, epochs=10, verbose=True)\n",
    "\n",
    "    victim_df = pd.read_csv(cwd+'fr_test/probabilities.csv')\n",
    "    victim = reshape_data(victim_df)\n",
    "    print('Attack Model without Protection:')\n",
    "    attack_accuracy(attack_model, victim, data1,data2)\n",
    "\n",
    "    prot_victim_df = pd.read_csv(cwd+'data/fr_k_1/probabilities.csv')\n",
    "    prot_victim = reshape_data(prot_victim_df)\n",
    "    print('Attack Model with Dirichlet k=1:')\n",
    "    attack_accuracy(attack_model, prot_victim, data1, data2)\n",
    "\n",
    "    prot_victim_df = pd.read_csv(cwd+'data/fr_k_10/probabilities.csv')\n",
    "    prot_victim = reshape_data(prot_victim_df)\n",
    "    print('Attack Model with Dirichlet k=10:')\n",
    "    attack_accuracy(attack_model, prot_victim, data1, data2)\n",
    "\n",
    "    prot_victim_df = pd.read_csv(cwd+'data/fr_k_100/probabilities.csv')\n",
    "    prot_victim = reshape_data(prot_victim_df)\n",
    "    print('Attack Model with Dirichlet k=100:')\n",
    "    attack_accuracy(attack_model, prot_victim, data1, data2)\n",
    "    print()"
   ]
  },
  {
   "cell_type": "code",
   "execution_count": 95,
   "metadata": {
    "colab": {
     "base_uri": "https://localhost:8080/"
    },
    "id": "kOs2c3_ItWCd",
    "outputId": "a8ecdf45-7d41-405d-d310-d764400c84ef"
   },
   "outputs": [
    {
     "name": "stdout",
     "output_type": "stream",
     "text": [
      "Experiment k =  1\n",
      "Epoch 1/10\n",
      "100/100 [==============================] - 2s 4ms/step - loss: 2.9223 - accuracy: 0.4859 - precision_15: 0.4922 - recall_15: 0.4544\n",
      "Epoch 2/10\n",
      "100/100 [==============================] - 0s 4ms/step - loss: 0.6962 - accuracy: 0.5049 - precision_15: 0.4983 - recall_15: 0.5184\n",
      "Epoch 3/10\n",
      "100/100 [==============================] - 0s 4ms/step - loss: 0.6932 - accuracy: 0.5020 - precision_15: 0.5039 - recall_15: 0.7390\n",
      "Epoch 4/10\n",
      "100/100 [==============================] - 0s 4ms/step - loss: 0.6935 - accuracy: 0.4937 - precision_15: 0.4956 - recall_15: 0.9380\n",
      "Epoch 5/10\n",
      "100/100 [==============================] - 0s 4ms/step - loss: 0.6933 - accuracy: 0.4844 - precision_15: 0.4600 - recall_15: 0.3329\n",
      "Epoch 6/10\n",
      "100/100 [==============================] - 0s 4ms/step - loss: 0.6932 - accuracy: 0.5022 - precision_15: 0.5037 - recall_15: 0.8692\n",
      "Epoch 7/10\n",
      "100/100 [==============================] - 0s 4ms/step - loss: 0.6934 - accuracy: 0.4946 - precision_15: 0.4984 - recall_15: 0.9589\n",
      "Epoch 8/10\n",
      "100/100 [==============================] - 0s 4ms/step - loss: 0.6932 - accuracy: 0.4948 - precision_15: 0.4282 - recall_15: 0.1252\n",
      "Epoch 9/10\n",
      "100/100 [==============================] - 0s 4ms/step - loss: 0.6931 - accuracy: 0.5050 - precision_15: 0.5061 - recall_15: 0.7527\n",
      "Epoch 10/10\n",
      "100/100 [==============================] - 0s 4ms/step - loss: 0.6932 - accuracy: 0.4970 - precision_15: 0.4986 - recall_15: 0.3555\n",
      "Attack Model without Protection:\n",
      "Number of predicted IN data:  6400\n",
      "Accuracy:  0.5 \n",
      "\n",
      "Attack Model with Dirichlet k=1:\n",
      "Number of predicted IN data:  0\n",
      "Accuracy:  0.5 \n",
      "\n",
      "Attack Model with Dirichlet k=10:\n",
      "Number of predicted IN data:  3712\n",
      "Accuracy:  0.5 \n",
      "\n",
      "Attack Model with Dirichlet k=100:\n",
      "Number of predicted IN data:  6400\n",
      "Accuracy:  0.5 \n",
      "\n",
      "\n",
      "Experiment k =  10\n",
      "Epoch 1/10\n",
      "100/100 [==============================] - 2s 4ms/step - loss: 0.8953 - accuracy: 0.4935 - precision_16: 0.4916 - recall_16: 0.5033\n",
      "Epoch 2/10\n",
      "100/100 [==============================] - 0s 4ms/step - loss: 0.7008 - accuracy: 0.5162 - precision_16: 0.5168 - recall_16: 0.5406\n",
      "Epoch 3/10\n",
      "100/100 [==============================] - 0s 4ms/step - loss: 0.6673 - accuracy: 0.5903 - precision_16: 0.5809 - recall_16: 0.5995\n",
      "Epoch 4/10\n",
      "100/100 [==============================] - 0s 4ms/step - loss: 0.4242 - accuracy: 0.8209 - precision_16: 0.8112 - recall_16: 0.8408\n",
      "Epoch 5/10\n",
      "100/100 [==============================] - 0s 4ms/step - loss: 0.2644 - accuracy: 0.8954 - precision_16: 0.9066 - recall_16: 0.8842\n",
      "Epoch 6/10\n",
      "100/100 [==============================] - 0s 4ms/step - loss: 0.2097 - accuracy: 0.9150 - precision_16: 0.9193 - recall_16: 0.9089\n",
      "Epoch 7/10\n",
      "100/100 [==============================] - 0s 4ms/step - loss: 0.1815 - accuracy: 0.9313 - precision_16: 0.9364 - recall_16: 0.9243\n",
      "Epoch 8/10\n",
      "100/100 [==============================] - 0s 4ms/step - loss: 0.1540 - accuracy: 0.9417 - precision_16: 0.9531 - recall_16: 0.9307\n",
      "Epoch 9/10\n",
      "100/100 [==============================] - 0s 4ms/step - loss: 0.1516 - accuracy: 0.9384 - precision_16: 0.9509 - recall_16: 0.9243\n",
      "Epoch 10/10\n",
      "100/100 [==============================] - 0s 4ms/step - loss: 0.1203 - accuracy: 0.9545 - precision_16: 0.9633 - recall_16: 0.9436\n",
      "Attack Model without Protection:\n",
      "Number of predicted IN data:  3128\n",
      "Accuracy:  0.965625 \n",
      "\n",
      "Attack Model with Dirichlet k=1:\n",
      "Number of predicted IN data:  0\n",
      "Accuracy:  0.5 \n",
      "\n",
      "Attack Model with Dirichlet k=10:\n",
      "Number of predicted IN data:  1878\n",
      "Accuracy:  0.7496875000000001 \n",
      "\n",
      "Attack Model with Dirichlet k=100:\n",
      "Number of predicted IN data:  3110\n",
      "Accuracy:  0.9621875 \n",
      "\n",
      "\n",
      "Experiment k =  100\n",
      "Epoch 1/10\n",
      "100/100 [==============================] - 2s 4ms/step - loss: 0.7006 - accuracy: 0.5157 - precision_17: 0.5195 - recall_17: 0.6198\n",
      "Epoch 2/10\n",
      "100/100 [==============================] - 0s 4ms/step - loss: 0.5086 - accuracy: 0.7424 - precision_17: 0.7720 - recall_17: 0.6947\n",
      "Epoch 3/10\n",
      "100/100 [==============================] - 0s 4ms/step - loss: 0.1305 - accuracy: 0.9481 - precision_17: 0.9705 - recall_17: 0.9242\n",
      "Epoch 4/10\n",
      "100/100 [==============================] - 0s 4ms/step - loss: 0.1068 - accuracy: 0.9616 - precision_17: 0.9784 - recall_17: 0.9465\n",
      "Epoch 5/10\n",
      "100/100 [==============================] - 0s 4ms/step - loss: 0.0842 - accuracy: 0.9686 - precision_17: 0.9802 - recall_17: 0.9584\n",
      "Epoch 6/10\n",
      "100/100 [==============================] - 0s 4ms/step - loss: 0.0581 - accuracy: 0.9824 - precision_17: 0.9887 - recall_17: 0.9755\n",
      "Epoch 7/10\n",
      "100/100 [==============================] - 0s 4ms/step - loss: 0.0483 - accuracy: 0.9848 - precision_17: 0.9914 - recall_17: 0.9774\n",
      "Epoch 8/10\n",
      "100/100 [==============================] - 0s 4ms/step - loss: 0.0526 - accuracy: 0.9810 - precision_17: 0.9841 - recall_17: 0.9781\n",
      "Epoch 9/10\n",
      "100/100 [==============================] - 0s 4ms/step - loss: 0.0488 - accuracy: 0.9844 - precision_17: 0.9907 - recall_17: 0.9785\n",
      "Epoch 10/10\n",
      "100/100 [==============================] - 0s 4ms/step - loss: 0.0215 - accuracy: 0.9962 - precision_17: 0.9991 - recall_17: 0.9934\n",
      "Attack Model without Protection:\n",
      "Number of predicted IN data:  3219\n",
      "Accuracy:  0.99078125 \n",
      "\n",
      "Attack Model with Dirichlet k=1:\n",
      "Number of predicted IN data:  0\n",
      "Accuracy:  0.5 \n",
      "\n",
      "Attack Model with Dirichlet k=10:\n",
      "Number of predicted IN data:  997\n",
      "Accuracy:  0.57640625 \n",
      "\n",
      "Attack Model with Dirichlet k=100:\n",
      "Number of predicted IN data:  2662\n",
      "Accuracy:  0.8965624999999999 \n",
      "\n",
      "\n"
     ]
    }
   ],
   "source": [
    "dirichlet_experiment(k=1)\n",
    "dirichlet_experiment(k=10)\n",
    "dirichlet_experiment(k=100)"
   ]
  },
  {
   "cell_type": "code",
   "execution_count": null,
   "metadata": {
    "id": "Glkk7Huu2-Gl"
   },
   "outputs": [],
   "source": [
    "dirichlet_experiment(k=5, decay_rate=0.9)"
   ]
  }
 ],
 "metadata": {
  "accelerator": "GPU",
  "colab": {
   "collapsed_sections": [],
   "name": "RL_Men_att",
   "provenance": []
  },
  "kernelspec": {
   "display_name": "Python 3",
   "language": "python",
   "name": "python3"
  },
  "language_info": {
   "codemirror_mode": {
    "name": "ipython",
    "version": 3
   },
   "file_extension": ".py",
   "mimetype": "text/x-python",
   "name": "python",
   "nbconvert_exporter": "python",
   "pygments_lexer": "ipython3",
   "version": "3.7.4"
  }
 },
 "nbformat": 4,
 "nbformat_minor": 1
}
